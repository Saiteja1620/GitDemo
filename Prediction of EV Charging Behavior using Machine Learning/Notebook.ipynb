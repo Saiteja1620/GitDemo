{
 "cells": [
  {
   "cell_type": "markdown",
   "metadata": {},
   "source": [
    "# Import libraries"
   ]
  },
  {
   "cell_type": "code",
   "execution_count": 1,
   "metadata": {},
   "outputs": [],
   "source": [
    "import numpy as np\n",
    "import pandas as pd"
   ]
  },
  {
   "cell_type": "markdown",
   "metadata": {},
   "source": [
    "# Data Exploration"
   ]
  },
  {
   "cell_type": "code",
   "execution_count": 2,
   "metadata": {},
   "outputs": [],
   "source": [
    "data = pd.read_csv(\"ev_data.csv\" , encoding= 'unicode_escape')"
   ]
  },
  {
   "cell_type": "markdown",
   "metadata": {},
   "source": [
    "# Data Processing"
   ]
  },
  {
   "cell_type": "code",
   "execution_count": 3,
   "metadata": {},
   "outputs": [
    {
     "data": {
      "text/html": [
       "<div>\n",
       "<style scoped>\n",
       "    .dataframe tbody tr th:only-of-type {\n",
       "        vertical-align: middle;\n",
       "    }\n",
       "\n",
       "    .dataframe tbody tr th {\n",
       "        vertical-align: top;\n",
       "    }\n",
       "\n",
       "    .dataframe thead th {\n",
       "        text-align: right;\n",
       "    }\n",
       "</style>\n",
       "<table border=\"1\" class=\"dataframe\">\n",
       "  <thead>\n",
       "    <tr style=\"text-align: right;\">\n",
       "      <th></th>\n",
       "      <th>consumption(kWh/100km)</th>\n",
       "      <th>model</th>\n",
       "      <th>version</th>\n",
       "      <th>power(kW)</th>\n",
       "      <th>fuel_date</th>\n",
       "      <th>odometer</th>\n",
       "      <th>trip_distance(km)</th>\n",
       "      <th>quantity(kWh)</th>\n",
       "      <th>fuel_type</th>\n",
       "      <th>tire_type</th>\n",
       "      <th>city</th>\n",
       "      <th>motor_way</th>\n",
       "      <th>country_roads</th>\n",
       "      <th>driving_style</th>\n",
       "      <th>Unnamed: 14</th>\n",
       "      <th>A/C</th>\n",
       "      <th>park_heating</th>\n",
       "      <th>avg_speed(km/h)</th>\n",
       "      <th>ecr_deviation</th>\n",
       "      <th>fuel_note</th>\n",
       "    </tr>\n",
       "  </thead>\n",
       "  <tbody>\n",
       "    <tr>\n",
       "      <th>0</th>\n",
       "      <td>14.63</td>\n",
       "      <td>i-MiEV</td>\n",
       "      <td>i-MiEV</td>\n",
       "      <td>49</td>\n",
       "      <td>07.02.2019</td>\n",
       "      <td>176977</td>\n",
       "      <td>50.7</td>\n",
       "      <td>6.50</td>\n",
       "      <td>Electricity</td>\n",
       "      <td>Winter tires</td>\n",
       "      <td>1</td>\n",
       "      <td>0</td>\n",
       "      <td>1</td>\n",
       "      <td>Normal</td>\n",
       "      <td>NaN</td>\n",
       "      <td>0</td>\n",
       "      <td>0</td>\n",
       "      <td>NaN</td>\n",
       "      <td>NaN</td>\n",
       "      <td>Noch 6 Balken, 33km Reichweite, Mainova Ökostr...</td>\n",
       "    </tr>\n",
       "    <tr>\n",
       "      <th>1</th>\n",
       "      <td>14.63</td>\n",
       "      <td>i-MiEV</td>\n",
       "      <td>i-MiEV</td>\n",
       "      <td>49</td>\n",
       "      <td>06.02.2019</td>\n",
       "      <td>176926</td>\n",
       "      <td>49.9</td>\n",
       "      <td>7.30</td>\n",
       "      <td>Electricity</td>\n",
       "      <td>Winter tires</td>\n",
       "      <td>1</td>\n",
       "      <td>0</td>\n",
       "      <td>1</td>\n",
       "      <td>Normal</td>\n",
       "      <td>NaN</td>\n",
       "      <td>0</td>\n",
       "      <td>0</td>\n",
       "      <td>NaN</td>\n",
       "      <td>-0.37</td>\n",
       "      <td>Noch 5 Balken, 30km Reichweite, Mainova Ökostr...</td>\n",
       "    </tr>\n",
       "    <tr>\n",
       "      <th>2</th>\n",
       "      <td>13.79</td>\n",
       "      <td>i-MiEV</td>\n",
       "      <td>i-MiEV</td>\n",
       "      <td>49</td>\n",
       "      <td>05.02.2019</td>\n",
       "      <td>176876</td>\n",
       "      <td>51.5</td>\n",
       "      <td>7.10</td>\n",
       "      <td>Electricity</td>\n",
       "      <td>Winter tires</td>\n",
       "      <td>1</td>\n",
       "      <td>0</td>\n",
       "      <td>1</td>\n",
       "      <td>Normal</td>\n",
       "      <td>NaN</td>\n",
       "      <td>0</td>\n",
       "      <td>0</td>\n",
       "      <td>NaN</td>\n",
       "      <td>-1.21</td>\n",
       "      <td>Noch 6B, 36km RRW, Batterie 8-11°C, 9,3°C, 41,...</td>\n",
       "    </tr>\n",
       "    <tr>\n",
       "      <th>3</th>\n",
       "      <td>14.10</td>\n",
       "      <td>i-MiEV</td>\n",
       "      <td>i-MiEV</td>\n",
       "      <td>49</td>\n",
       "      <td>04.02.2019</td>\n",
       "      <td>176824</td>\n",
       "      <td>52.5</td>\n",
       "      <td>7.40</td>\n",
       "      <td>Electricity</td>\n",
       "      <td>Winter tires</td>\n",
       "      <td>1</td>\n",
       "      <td>0</td>\n",
       "      <td>1</td>\n",
       "      <td>Normal</td>\n",
       "      <td>NaN</td>\n",
       "      <td>0</td>\n",
       "      <td>0</td>\n",
       "      <td>NaN</td>\n",
       "      <td>-0.90</td>\n",
       "      <td>Noch 5 Balken, 30km Reichweite, Mainova Ökostr...</td>\n",
       "    </tr>\n",
       "    <tr>\n",
       "      <th>4</th>\n",
       "      <td>14.47</td>\n",
       "      <td>i-MiEV</td>\n",
       "      <td>i-MiEV</td>\n",
       "      <td>49</td>\n",
       "      <td>03.02.2019</td>\n",
       "      <td>176772</td>\n",
       "      <td>0.5</td>\n",
       "      <td>1.65</td>\n",
       "      <td>Electricity</td>\n",
       "      <td>Winter tires</td>\n",
       "      <td>1</td>\n",
       "      <td>0</td>\n",
       "      <td>0</td>\n",
       "      <td>Normal</td>\n",
       "      <td>NaN</td>\n",
       "      <td>0</td>\n",
       "      <td>0</td>\n",
       "      <td>NaN</td>\n",
       "      <td>-0.53</td>\n",
       "      <td>Noch 15 Balken, 75km Reichweite, 85,5%, Batter...</td>\n",
       "    </tr>\n",
       "  </tbody>\n",
       "</table>\n",
       "</div>"
      ],
      "text/plain": [
       "   consumption(kWh/100km)   model version  power(kW)   fuel_date  odometer  \\\n",
       "0                   14.63  i-MiEV  i-MiEV         49  07.02.2019    176977   \n",
       "1                   14.63  i-MiEV  i-MiEV         49  06.02.2019    176926   \n",
       "2                   13.79  i-MiEV  i-MiEV         49  05.02.2019    176876   \n",
       "3                   14.10  i-MiEV  i-MiEV         49  04.02.2019    176824   \n",
       "4                   14.47  i-MiEV  i-MiEV         49  03.02.2019    176772   \n",
       "\n",
       "   trip_distance(km)  quantity(kWh)    fuel_type     tire_type  city  \\\n",
       "0               50.7           6.50  Electricity  Winter tires     1   \n",
       "1               49.9           7.30  Electricity  Winter tires     1   \n",
       "2               51.5           7.10  Electricity  Winter tires     1   \n",
       "3               52.5           7.40  Electricity  Winter tires     1   \n",
       "4                0.5           1.65  Electricity  Winter tires     1   \n",
       "\n",
       "   motor_way  country_roads driving_style  Unnamed: 14  A/C  park_heating  \\\n",
       "0          0              1        Normal          NaN    0             0   \n",
       "1          0              1        Normal          NaN    0             0   \n",
       "2          0              1        Normal          NaN    0             0   \n",
       "3          0              1        Normal          NaN    0             0   \n",
       "4          0              0        Normal          NaN    0             0   \n",
       "\n",
       "   avg_speed(km/h)  ecr_deviation  \\\n",
       "0              NaN            NaN   \n",
       "1              NaN          -0.37   \n",
       "2              NaN          -1.21   \n",
       "3              NaN          -0.90   \n",
       "4              NaN          -0.53   \n",
       "\n",
       "                                           fuel_note  \n",
       "0  Noch 6 Balken, 33km Reichweite, Mainova Ökostr...  \n",
       "1  Noch 5 Balken, 30km Reichweite, Mainova Ökostr...  \n",
       "2  Noch 6B, 36km RRW, Batterie 8-11°C, 9,3°C, 41,...  \n",
       "3  Noch 5 Balken, 30km Reichweite, Mainova Ökostr...  \n",
       "4  Noch 15 Balken, 75km Reichweite, 85,5%, Batter...  "
      ]
     },
     "execution_count": 3,
     "metadata": {},
     "output_type": "execute_result"
    }
   ],
   "source": [
    "data.head()"
   ]
  },
  {
   "cell_type": "code",
   "execution_count": 4,
   "metadata": {},
   "outputs": [
    {
     "name": "stdout",
     "output_type": "stream",
     "text": [
      "<class 'pandas.core.frame.DataFrame'>\n",
      "RangeIndex: 1285 entries, 0 to 1284\n",
      "Data columns (total 20 columns):\n",
      " #   Column                  Non-Null Count  Dtype  \n",
      "---  ------                  --------------  -----  \n",
      " 0   consumption(kWh/100km)  1236 non-null   float64\n",
      " 1   model                   1285 non-null   object \n",
      " 2   version                 1285 non-null   object \n",
      " 3   power(kW)               1285 non-null   int64  \n",
      " 4   fuel_date               1285 non-null   object \n",
      " 5   odometer                1285 non-null   int64  \n",
      " 6   trip_distance(km)       1285 non-null   float64\n",
      " 7   quantity(kWh)           1246 non-null   float64\n",
      " 8   fuel_type               1285 non-null   object \n",
      " 9   tire_type               1285 non-null   object \n",
      " 10  city                    1285 non-null   int64  \n",
      " 11  motor_way               1285 non-null   int64  \n",
      " 12  country_roads           1285 non-null   int64  \n",
      " 13  driving_style           1285 non-null   object \n",
      " 14  Unnamed: 14             0 non-null      float64\n",
      " 15  A/C                     1285 non-null   int64  \n",
      " 16  park_heating            1285 non-null   int64  \n",
      " 17  avg_speed(km/h)         0 non-null      float64\n",
      " 18  ecr_deviation           1234 non-null   float64\n",
      " 19  fuel_note               1284 non-null   object \n",
      "dtypes: float64(6), int64(7), object(7)\n",
      "memory usage: 200.9+ KB\n"
     ]
    }
   ],
   "source": [
    "data.info()"
   ]
  },
  {
   "cell_type": "code",
   "execution_count": 5,
   "metadata": {},
   "outputs": [
    {
     "name": "stdout",
     "output_type": "stream",
     "text": [
      "Index(['consumption(kWh/100km)', 'model', 'version', 'power(kW)', 'fuel_date',\n",
      "       'odometer', 'trip_distance(km)', 'quantity(kWh)', 'fuel_type',\n",
      "       'tire_type', 'city', 'motor_way', 'country_roads', 'driving_style',\n",
      "       'Unnamed: 14', 'A/C', 'park_heating', 'avg_speed(km/h)',\n",
      "       'ecr_deviation', 'fuel_note'],\n",
      "      dtype='object')\n"
     ]
    }
   ],
   "source": [
    "objList = data.columns\n",
    "print(objList)"
   ]
  },
  {
   "cell_type": "code",
   "execution_count": 6,
   "metadata": {},
   "outputs": [
    {
     "name": "stdout",
     "output_type": "stream",
     "text": [
      "consumption(kWh/100km)      49\n",
      "model                        0\n",
      "version                      0\n",
      "power(kW)                    0\n",
      "fuel_date                    0\n",
      "odometer                     0\n",
      "trip_distance(km)            0\n",
      "quantity(kWh)               39\n",
      "fuel_type                    0\n",
      "tire_type                    0\n",
      "city                         0\n",
      "motor_way                    0\n",
      "country_roads                0\n",
      "driving_style                0\n",
      "Unnamed: 14               1285\n",
      "A/C                          0\n",
      "park_heating                 0\n",
      "avg_speed(km/h)           1285\n",
      "ecr_deviation               51\n",
      "fuel_note                    1\n",
      "dtype: int64\n"
     ]
    }
   ],
   "source": [
    "missing_data = data.isnull().sum()\n",
    "print(missing_data)"
   ]
  },
  {
   "cell_type": "code",
   "execution_count": 7,
   "metadata": {},
   "outputs": [],
   "source": [
    "data = data.drop(['model','version','fuel_date' ,], axis=1, errors='ignore')"
   ]
  },
  {
   "cell_type": "code",
   "execution_count": 8,
   "metadata": {},
   "outputs": [
    {
     "name": "stdout",
     "output_type": "stream",
     "text": [
      "consumption(kWh/100km)      49\n",
      "power(kW)                    0\n",
      "odometer                     0\n",
      "trip_distance(km)            0\n",
      "quantity(kWh)               39\n",
      "fuel_type                    0\n",
      "tire_type                    0\n",
      "city                         0\n",
      "motor_way                    0\n",
      "country_roads                0\n",
      "driving_style                0\n",
      "Unnamed: 14               1285\n",
      "A/C                          0\n",
      "park_heating                 0\n",
      "avg_speed(km/h)           1285\n",
      "ecr_deviation               51\n",
      "fuel_note                    1\n",
      "dtype: int64\n"
     ]
    }
   ],
   "source": [
    "missing_data = data.isnull().sum()\n",
    "print(missing_data)"
   ]
  },
  {
   "cell_type": "code",
   "execution_count": 9,
   "metadata": {},
   "outputs": [
    {
     "data": {
      "text/html": [
       "<div>\n",
       "<style scoped>\n",
       "    .dataframe tbody tr th:only-of-type {\n",
       "        vertical-align: middle;\n",
       "    }\n",
       "\n",
       "    .dataframe tbody tr th {\n",
       "        vertical-align: top;\n",
       "    }\n",
       "\n",
       "    .dataframe thead th {\n",
       "        text-align: right;\n",
       "    }\n",
       "</style>\n",
       "<table border=\"1\" class=\"dataframe\">\n",
       "  <thead>\n",
       "    <tr style=\"text-align: right;\">\n",
       "      <th></th>\n",
       "      <th>consumption(kWh/100km)</th>\n",
       "      <th>power(kW)</th>\n",
       "      <th>odometer</th>\n",
       "      <th>trip_distance(km)</th>\n",
       "      <th>quantity(kWh)</th>\n",
       "      <th>fuel_type</th>\n",
       "      <th>tire_type</th>\n",
       "      <th>city</th>\n",
       "      <th>motor_way</th>\n",
       "      <th>country_roads</th>\n",
       "      <th>driving_style</th>\n",
       "      <th>Unnamed: 14</th>\n",
       "      <th>A/C</th>\n",
       "      <th>park_heating</th>\n",
       "      <th>avg_speed(km/h)</th>\n",
       "      <th>ecr_deviation</th>\n",
       "      <th>fuel_note</th>\n",
       "    </tr>\n",
       "  </thead>\n",
       "  <tbody>\n",
       "    <tr>\n",
       "      <th>0</th>\n",
       "      <td>14.63</td>\n",
       "      <td>49</td>\n",
       "      <td>176977</td>\n",
       "      <td>50.7</td>\n",
       "      <td>6.50</td>\n",
       "      <td>Electricity</td>\n",
       "      <td>Winter tires</td>\n",
       "      <td>1</td>\n",
       "      <td>0</td>\n",
       "      <td>1</td>\n",
       "      <td>Normal</td>\n",
       "      <td>NaN</td>\n",
       "      <td>0</td>\n",
       "      <td>0</td>\n",
       "      <td>NaN</td>\n",
       "      <td>NaN</td>\n",
       "      <td>Noch 6 Balken, 33km Reichweite, Mainova Ökostr...</td>\n",
       "    </tr>\n",
       "    <tr>\n",
       "      <th>1</th>\n",
       "      <td>14.63</td>\n",
       "      <td>49</td>\n",
       "      <td>176926</td>\n",
       "      <td>49.9</td>\n",
       "      <td>7.30</td>\n",
       "      <td>Electricity</td>\n",
       "      <td>Winter tires</td>\n",
       "      <td>1</td>\n",
       "      <td>0</td>\n",
       "      <td>1</td>\n",
       "      <td>Normal</td>\n",
       "      <td>NaN</td>\n",
       "      <td>0</td>\n",
       "      <td>0</td>\n",
       "      <td>NaN</td>\n",
       "      <td>-0.37</td>\n",
       "      <td>Noch 5 Balken, 30km Reichweite, Mainova Ökostr...</td>\n",
       "    </tr>\n",
       "    <tr>\n",
       "      <th>2</th>\n",
       "      <td>13.79</td>\n",
       "      <td>49</td>\n",
       "      <td>176876</td>\n",
       "      <td>51.5</td>\n",
       "      <td>7.10</td>\n",
       "      <td>Electricity</td>\n",
       "      <td>Winter tires</td>\n",
       "      <td>1</td>\n",
       "      <td>0</td>\n",
       "      <td>1</td>\n",
       "      <td>Normal</td>\n",
       "      <td>NaN</td>\n",
       "      <td>0</td>\n",
       "      <td>0</td>\n",
       "      <td>NaN</td>\n",
       "      <td>-1.21</td>\n",
       "      <td>Noch 6B, 36km RRW, Batterie 8-11°C, 9,3°C, 41,...</td>\n",
       "    </tr>\n",
       "    <tr>\n",
       "      <th>3</th>\n",
       "      <td>14.10</td>\n",
       "      <td>49</td>\n",
       "      <td>176824</td>\n",
       "      <td>52.5</td>\n",
       "      <td>7.40</td>\n",
       "      <td>Electricity</td>\n",
       "      <td>Winter tires</td>\n",
       "      <td>1</td>\n",
       "      <td>0</td>\n",
       "      <td>1</td>\n",
       "      <td>Normal</td>\n",
       "      <td>NaN</td>\n",
       "      <td>0</td>\n",
       "      <td>0</td>\n",
       "      <td>NaN</td>\n",
       "      <td>-0.90</td>\n",
       "      <td>Noch 5 Balken, 30km Reichweite, Mainova Ökostr...</td>\n",
       "    </tr>\n",
       "    <tr>\n",
       "      <th>4</th>\n",
       "      <td>14.47</td>\n",
       "      <td>49</td>\n",
       "      <td>176772</td>\n",
       "      <td>0.5</td>\n",
       "      <td>1.65</td>\n",
       "      <td>Electricity</td>\n",
       "      <td>Winter tires</td>\n",
       "      <td>1</td>\n",
       "      <td>0</td>\n",
       "      <td>0</td>\n",
       "      <td>Normal</td>\n",
       "      <td>NaN</td>\n",
       "      <td>0</td>\n",
       "      <td>0</td>\n",
       "      <td>NaN</td>\n",
       "      <td>-0.53</td>\n",
       "      <td>Noch 15 Balken, 75km Reichweite, 85,5%, Batter...</td>\n",
       "    </tr>\n",
       "  </tbody>\n",
       "</table>\n",
       "</div>"
      ],
      "text/plain": [
       "   consumption(kWh/100km)  power(kW)  odometer  trip_distance(km)  \\\n",
       "0                   14.63         49    176977               50.7   \n",
       "1                   14.63         49    176926               49.9   \n",
       "2                   13.79         49    176876               51.5   \n",
       "3                   14.10         49    176824               52.5   \n",
       "4                   14.47         49    176772                0.5   \n",
       "\n",
       "   quantity(kWh)    fuel_type     tire_type  city  motor_way  country_roads  \\\n",
       "0           6.50  Electricity  Winter tires     1          0              1   \n",
       "1           7.30  Electricity  Winter tires     1          0              1   \n",
       "2           7.10  Electricity  Winter tires     1          0              1   \n",
       "3           7.40  Electricity  Winter tires     1          0              1   \n",
       "4           1.65  Electricity  Winter tires     1          0              0   \n",
       "\n",
       "  driving_style  Unnamed: 14  A/C  park_heating  avg_speed(km/h)  \\\n",
       "0        Normal          NaN    0             0              NaN   \n",
       "1        Normal          NaN    0             0              NaN   \n",
       "2        Normal          NaN    0             0              NaN   \n",
       "3        Normal          NaN    0             0              NaN   \n",
       "4        Normal          NaN    0             0              NaN   \n",
       "\n",
       "   ecr_deviation                                          fuel_note  \n",
       "0            NaN  Noch 6 Balken, 33km Reichweite, Mainova Ökostr...  \n",
       "1          -0.37  Noch 5 Balken, 30km Reichweite, Mainova Ökostr...  \n",
       "2          -1.21  Noch 6B, 36km RRW, Batterie 8-11°C, 9,3°C, 41,...  \n",
       "3          -0.90  Noch 5 Balken, 30km Reichweite, Mainova Ökostr...  \n",
       "4          -0.53  Noch 15 Balken, 75km Reichweite, 85,5%, Batter...  "
      ]
     },
     "execution_count": 9,
     "metadata": {},
     "output_type": "execute_result"
    }
   ],
   "source": [
    "data.head()"
   ]
  },
  {
   "cell_type": "code",
   "execution_count": 10,
   "metadata": {},
   "outputs": [
    {
     "data": {
      "text/html": [
       "<div>\n",
       "<style scoped>\n",
       "    .dataframe tbody tr th:only-of-type {\n",
       "        vertical-align: middle;\n",
       "    }\n",
       "\n",
       "    .dataframe tbody tr th {\n",
       "        vertical-align: top;\n",
       "    }\n",
       "\n",
       "    .dataframe thead th {\n",
       "        text-align: right;\n",
       "    }\n",
       "</style>\n",
       "<table border=\"1\" class=\"dataframe\">\n",
       "  <thead>\n",
       "    <tr style=\"text-align: right;\">\n",
       "      <th></th>\n",
       "      <th>consumption(kWh/100km)</th>\n",
       "      <th>power(kW)</th>\n",
       "      <th>odometer</th>\n",
       "      <th>trip_distance(km)</th>\n",
       "      <th>quantity(kWh)</th>\n",
       "      <th>fuel_type</th>\n",
       "      <th>tire_type</th>\n",
       "      <th>city</th>\n",
       "      <th>motor_way</th>\n",
       "      <th>country_roads</th>\n",
       "      <th>driving_style</th>\n",
       "      <th>Unnamed: 14</th>\n",
       "      <th>A/C</th>\n",
       "      <th>park_heating</th>\n",
       "      <th>avg_speed(km/h)</th>\n",
       "      <th>ecr_deviation</th>\n",
       "      <th>fuel_note</th>\n",
       "    </tr>\n",
       "  </thead>\n",
       "  <tbody>\n",
       "    <tr>\n",
       "      <th>0</th>\n",
       "      <td>14.63</td>\n",
       "      <td>49</td>\n",
       "      <td>176977</td>\n",
       "      <td>50.7</td>\n",
       "      <td>6.50</td>\n",
       "      <td>Electricity</td>\n",
       "      <td>Winter tires</td>\n",
       "      <td>1</td>\n",
       "      <td>0</td>\n",
       "      <td>1</td>\n",
       "      <td>Normal</td>\n",
       "      <td>NaN</td>\n",
       "      <td>0</td>\n",
       "      <td>0</td>\n",
       "      <td>NaN</td>\n",
       "      <td>NaN</td>\n",
       "      <td>Noch 6 Balken, 33km Reichweite, Mainova Ökostr...</td>\n",
       "    </tr>\n",
       "    <tr>\n",
       "      <th>1</th>\n",
       "      <td>14.63</td>\n",
       "      <td>49</td>\n",
       "      <td>176926</td>\n",
       "      <td>49.9</td>\n",
       "      <td>7.30</td>\n",
       "      <td>Electricity</td>\n",
       "      <td>Winter tires</td>\n",
       "      <td>1</td>\n",
       "      <td>0</td>\n",
       "      <td>1</td>\n",
       "      <td>Normal</td>\n",
       "      <td>NaN</td>\n",
       "      <td>0</td>\n",
       "      <td>0</td>\n",
       "      <td>NaN</td>\n",
       "      <td>-0.37</td>\n",
       "      <td>Noch 5 Balken, 30km Reichweite, Mainova Ökostr...</td>\n",
       "    </tr>\n",
       "    <tr>\n",
       "      <th>2</th>\n",
       "      <td>13.79</td>\n",
       "      <td>49</td>\n",
       "      <td>176876</td>\n",
       "      <td>51.5</td>\n",
       "      <td>7.10</td>\n",
       "      <td>Electricity</td>\n",
       "      <td>Winter tires</td>\n",
       "      <td>1</td>\n",
       "      <td>0</td>\n",
       "      <td>1</td>\n",
       "      <td>Normal</td>\n",
       "      <td>NaN</td>\n",
       "      <td>0</td>\n",
       "      <td>0</td>\n",
       "      <td>NaN</td>\n",
       "      <td>-1.21</td>\n",
       "      <td>Noch 6B, 36km RRW, Batterie 8-11°C, 9,3°C, 41,...</td>\n",
       "    </tr>\n",
       "    <tr>\n",
       "      <th>3</th>\n",
       "      <td>14.10</td>\n",
       "      <td>49</td>\n",
       "      <td>176824</td>\n",
       "      <td>52.5</td>\n",
       "      <td>7.40</td>\n",
       "      <td>Electricity</td>\n",
       "      <td>Winter tires</td>\n",
       "      <td>1</td>\n",
       "      <td>0</td>\n",
       "      <td>1</td>\n",
       "      <td>Normal</td>\n",
       "      <td>NaN</td>\n",
       "      <td>0</td>\n",
       "      <td>0</td>\n",
       "      <td>NaN</td>\n",
       "      <td>-0.90</td>\n",
       "      <td>Noch 5 Balken, 30km Reichweite, Mainova Ökostr...</td>\n",
       "    </tr>\n",
       "    <tr>\n",
       "      <th>4</th>\n",
       "      <td>14.47</td>\n",
       "      <td>49</td>\n",
       "      <td>176772</td>\n",
       "      <td>0.5</td>\n",
       "      <td>1.65</td>\n",
       "      <td>Electricity</td>\n",
       "      <td>Winter tires</td>\n",
       "      <td>1</td>\n",
       "      <td>0</td>\n",
       "      <td>0</td>\n",
       "      <td>Normal</td>\n",
       "      <td>NaN</td>\n",
       "      <td>0</td>\n",
       "      <td>0</td>\n",
       "      <td>NaN</td>\n",
       "      <td>-0.53</td>\n",
       "      <td>Noch 15 Balken, 75km Reichweite, 85,5%, Batter...</td>\n",
       "    </tr>\n",
       "    <tr>\n",
       "      <th>...</th>\n",
       "      <td>...</td>\n",
       "      <td>...</td>\n",
       "      <td>...</td>\n",
       "      <td>...</td>\n",
       "      <td>...</td>\n",
       "      <td>...</td>\n",
       "      <td>...</td>\n",
       "      <td>...</td>\n",
       "      <td>...</td>\n",
       "      <td>...</td>\n",
       "      <td>...</td>\n",
       "      <td>...</td>\n",
       "      <td>...</td>\n",
       "      <td>...</td>\n",
       "      <td>...</td>\n",
       "      <td>...</td>\n",
       "      <td>...</td>\n",
       "    </tr>\n",
       "    <tr>\n",
       "      <th>1280</th>\n",
       "      <td>11.96</td>\n",
       "      <td>49</td>\n",
       "      <td>115172</td>\n",
       "      <td>82.8</td>\n",
       "      <td>9.90</td>\n",
       "      <td>Electricity</td>\n",
       "      <td>Summer tires</td>\n",
       "      <td>1</td>\n",
       "      <td>0</td>\n",
       "      <td>1</td>\n",
       "      <td>Normal</td>\n",
       "      <td>NaN</td>\n",
       "      <td>1</td>\n",
       "      <td>0</td>\n",
       "      <td>NaN</td>\n",
       "      <td>-3.04</td>\n",
       "      <td>Noch 4 Balken, 34km Reichweite, 33,0%, Batteri...</td>\n",
       "    </tr>\n",
       "    <tr>\n",
       "      <th>1281</th>\n",
       "      <td>10.91</td>\n",
       "      <td>49</td>\n",
       "      <td>115089</td>\n",
       "      <td>12.4</td>\n",
       "      <td>5.68</td>\n",
       "      <td>Electricity</td>\n",
       "      <td>Summer tires</td>\n",
       "      <td>1</td>\n",
       "      <td>0</td>\n",
       "      <td>1</td>\n",
       "      <td>Normal</td>\n",
       "      <td>NaN</td>\n",
       "      <td>0</td>\n",
       "      <td>0</td>\n",
       "      <td>NaN</td>\n",
       "      <td>-4.09</td>\n",
       "      <td>Noch 10 Balken, 81km Reichweite, 2,75h geladen...</td>\n",
       "    </tr>\n",
       "    <tr>\n",
       "      <th>1282</th>\n",
       "      <td>10.91</td>\n",
       "      <td>49</td>\n",
       "      <td>115077</td>\n",
       "      <td>29.3</td>\n",
       "      <td>4.00</td>\n",
       "      <td>Electricity</td>\n",
       "      <td>Summer tires</td>\n",
       "      <td>1</td>\n",
       "      <td>0</td>\n",
       "      <td>1</td>\n",
       "      <td>Normal</td>\n",
       "      <td>NaN</td>\n",
       "      <td>1</td>\n",
       "      <td>0</td>\n",
       "      <td>NaN</td>\n",
       "      <td>-4.09</td>\n",
       "      <td>Noch 6 Balken, 49km Reichweite, 44,0%, Batteri...</td>\n",
       "    </tr>\n",
       "    <tr>\n",
       "      <th>1283</th>\n",
       "      <td>10.91</td>\n",
       "      <td>49</td>\n",
       "      <td>115048</td>\n",
       "      <td>95.2</td>\n",
       "      <td>5.25</td>\n",
       "      <td>Electricity</td>\n",
       "      <td>Summer tires</td>\n",
       "      <td>0</td>\n",
       "      <td>1</td>\n",
       "      <td>1</td>\n",
       "      <td>Normal</td>\n",
       "      <td>NaN</td>\n",
       "      <td>1</td>\n",
       "      <td>0</td>\n",
       "      <td>NaN</td>\n",
       "      <td>-4.09</td>\n",
       "      <td>Noch 4 Balken, 26km Reichweite, 29,5%, Batteri...</td>\n",
       "    </tr>\n",
       "    <tr>\n",
       "      <th>1284</th>\n",
       "      <td>12.64</td>\n",
       "      <td>49</td>\n",
       "      <td>114952</td>\n",
       "      <td>45.5</td>\n",
       "      <td>10.40</td>\n",
       "      <td>Electricity</td>\n",
       "      <td>Summer tires</td>\n",
       "      <td>0</td>\n",
       "      <td>1</td>\n",
       "      <td>1</td>\n",
       "      <td>Normal</td>\n",
       "      <td>NaN</td>\n",
       "      <td>0</td>\n",
       "      <td>0</td>\n",
       "      <td>NaN</td>\n",
       "      <td>-2.36</td>\n",
       "      <td>Noch 4 Balken, 27km Reichweite, 31,0%, Batteri...</td>\n",
       "    </tr>\n",
       "  </tbody>\n",
       "</table>\n",
       "<p>1285 rows × 17 columns</p>\n",
       "</div>"
      ],
      "text/plain": [
       "      consumption(kWh/100km)  power(kW)  odometer  trip_distance(km)  \\\n",
       "0                      14.63         49    176977               50.7   \n",
       "1                      14.63         49    176926               49.9   \n",
       "2                      13.79         49    176876               51.5   \n",
       "3                      14.10         49    176824               52.5   \n",
       "4                      14.47         49    176772                0.5   \n",
       "...                      ...        ...       ...                ...   \n",
       "1280                   11.96         49    115172               82.8   \n",
       "1281                   10.91         49    115089               12.4   \n",
       "1282                   10.91         49    115077               29.3   \n",
       "1283                   10.91         49    115048               95.2   \n",
       "1284                   12.64         49    114952               45.5   \n",
       "\n",
       "      quantity(kWh)    fuel_type     tire_type  city  motor_way  \\\n",
       "0              6.50  Electricity  Winter tires     1          0   \n",
       "1              7.30  Electricity  Winter tires     1          0   \n",
       "2              7.10  Electricity  Winter tires     1          0   \n",
       "3              7.40  Electricity  Winter tires     1          0   \n",
       "4              1.65  Electricity  Winter tires     1          0   \n",
       "...             ...          ...           ...   ...        ...   \n",
       "1280           9.90  Electricity  Summer tires     1          0   \n",
       "1281           5.68  Electricity  Summer tires     1          0   \n",
       "1282           4.00  Electricity  Summer tires     1          0   \n",
       "1283           5.25  Electricity  Summer tires     0          1   \n",
       "1284          10.40  Electricity  Summer tires     0          1   \n",
       "\n",
       "      country_roads driving_style  Unnamed: 14  A/C  park_heating  \\\n",
       "0                 1        Normal          NaN    0             0   \n",
       "1                 1        Normal          NaN    0             0   \n",
       "2                 1        Normal          NaN    0             0   \n",
       "3                 1        Normal          NaN    0             0   \n",
       "4                 0        Normal          NaN    0             0   \n",
       "...             ...           ...          ...  ...           ...   \n",
       "1280              1        Normal          NaN    1             0   \n",
       "1281              1        Normal          NaN    0             0   \n",
       "1282              1        Normal          NaN    1             0   \n",
       "1283              1        Normal          NaN    1             0   \n",
       "1284              1        Normal          NaN    0             0   \n",
       "\n",
       "      avg_speed(km/h)  ecr_deviation  \\\n",
       "0                 NaN            NaN   \n",
       "1                 NaN          -0.37   \n",
       "2                 NaN          -1.21   \n",
       "3                 NaN          -0.90   \n",
       "4                 NaN          -0.53   \n",
       "...               ...            ...   \n",
       "1280              NaN          -3.04   \n",
       "1281              NaN          -4.09   \n",
       "1282              NaN          -4.09   \n",
       "1283              NaN          -4.09   \n",
       "1284              NaN          -2.36   \n",
       "\n",
       "                                              fuel_note  \n",
       "0     Noch 6 Balken, 33km Reichweite, Mainova Ökostr...  \n",
       "1     Noch 5 Balken, 30km Reichweite, Mainova Ökostr...  \n",
       "2     Noch 6B, 36km RRW, Batterie 8-11°C, 9,3°C, 41,...  \n",
       "3     Noch 5 Balken, 30km Reichweite, Mainova Ökostr...  \n",
       "4     Noch 15 Balken, 75km Reichweite, 85,5%, Batter...  \n",
       "...                                                 ...  \n",
       "1280  Noch 4 Balken, 34km Reichweite, 33,0%, Batteri...  \n",
       "1281  Noch 10 Balken, 81km Reichweite, 2,75h geladen...  \n",
       "1282  Noch 6 Balken, 49km Reichweite, 44,0%, Batteri...  \n",
       "1283  Noch 4 Balken, 26km Reichweite, 29,5%, Batteri...  \n",
       "1284  Noch 4 Balken, 27km Reichweite, 31,0%, Batteri...  \n",
       "\n",
       "[1285 rows x 17 columns]"
      ]
     },
     "execution_count": 10,
     "metadata": {},
     "output_type": "execute_result"
    }
   ],
   "source": [
    "df = pd.DataFrame(data)\n",
    "    \n",
    "df"
   ]
  },
  {
   "cell_type": "code",
   "execution_count": 11,
   "metadata": {},
   "outputs": [],
   "source": [
    "df = df.dropna(how = 'any')"
   ]
  },
  {
   "cell_type": "code",
   "execution_count": 12,
   "metadata": {},
   "outputs": [
    {
     "name": "stdout",
     "output_type": "stream",
     "text": [
      "consumption(kWh/100km)    0.0\n",
      "power(kW)                 0.0\n",
      "odometer                  0.0\n",
      "trip_distance(km)         0.0\n",
      "quantity(kWh)             0.0\n",
      "fuel_type                 0.0\n",
      "tire_type                 0.0\n",
      "city                      0.0\n",
      "motor_way                 0.0\n",
      "country_roads             0.0\n",
      "driving_style             0.0\n",
      "Unnamed: 14               0.0\n",
      "A/C                       0.0\n",
      "park_heating              0.0\n",
      "avg_speed(km/h)           0.0\n",
      "ecr_deviation             0.0\n",
      "fuel_note                 0.0\n",
      "dtype: float64\n"
     ]
    }
   ],
   "source": [
    "missing_data = df.isnull().sum()\n",
    "print(missing_data)"
   ]
  },
  {
   "cell_type": "code",
   "execution_count": 13,
   "metadata": {},
   "outputs": [
    {
     "data": {
      "text/html": [
       "<div>\n",
       "<style scoped>\n",
       "    .dataframe tbody tr th:only-of-type {\n",
       "        vertical-align: middle;\n",
       "    }\n",
       "\n",
       "    .dataframe tbody tr th {\n",
       "        vertical-align: top;\n",
       "    }\n",
       "\n",
       "    .dataframe thead th {\n",
       "        text-align: right;\n",
       "    }\n",
       "</style>\n",
       "<table border=\"1\" class=\"dataframe\">\n",
       "  <thead>\n",
       "    <tr style=\"text-align: right;\">\n",
       "      <th></th>\n",
       "      <th>consumption(kWh/100km)</th>\n",
       "      <th>power(kW)</th>\n",
       "      <th>odometer</th>\n",
       "      <th>trip_distance(km)</th>\n",
       "      <th>quantity(kWh)</th>\n",
       "      <th>fuel_type</th>\n",
       "      <th>tire_type</th>\n",
       "      <th>city</th>\n",
       "      <th>motor_way</th>\n",
       "      <th>country_roads</th>\n",
       "      <th>driving_style</th>\n",
       "      <th>Unnamed: 14</th>\n",
       "      <th>A/C</th>\n",
       "      <th>park_heating</th>\n",
       "      <th>avg_speed(km/h)</th>\n",
       "      <th>ecr_deviation</th>\n",
       "      <th>fuel_note</th>\n",
       "    </tr>\n",
       "  </thead>\n",
       "  <tbody>\n",
       "  </tbody>\n",
       "</table>\n",
       "</div>"
      ],
      "text/plain": [
       "Empty DataFrame\n",
       "Columns: [consumption(kWh/100km), power(kW), odometer, trip_distance(km), quantity(kWh), fuel_type, tire_type, city, motor_way, country_roads, driving_style, Unnamed: 14, A/C, park_heating, avg_speed(km/h), ecr_deviation, fuel_note]\n",
       "Index: []"
      ]
     },
     "execution_count": 13,
     "metadata": {},
     "output_type": "execute_result"
    }
   ],
   "source": [
    "df.head()"
   ]
  },
  {
   "cell_type": "code",
   "execution_count": 14,
   "metadata": {},
   "outputs": [],
   "source": [
    "df = df.drop(['fuel_note'], axis=1, errors='ignore')"
   ]
  },
  {
   "cell_type": "code",
   "execution_count": 15,
   "metadata": {},
   "outputs": [
    {
     "name": "stdout",
     "output_type": "stream",
     "text": [
      "<class 'pandas.core.frame.DataFrame'>\n",
      "Int64Index: 0 entries\n",
      "Data columns (total 16 columns):\n",
      " #   Column                  Non-Null Count  Dtype  \n",
      "---  ------                  --------------  -----  \n",
      " 0   consumption(kWh/100km)  0 non-null      float64\n",
      " 1   power(kW)               0 non-null      int64  \n",
      " 2   odometer                0 non-null      int64  \n",
      " 3   trip_distance(km)       0 non-null      float64\n",
      " 4   quantity(kWh)           0 non-null      float64\n",
      " 5   fuel_type               0 non-null      object \n",
      " 6   tire_type               0 non-null      object \n",
      " 7   city                    0 non-null      int64  \n",
      " 8   motor_way               0 non-null      int64  \n",
      " 9   country_roads           0 non-null      int64  \n",
      " 10  driving_style           0 non-null      object \n",
      " 11  Unnamed: 14             0 non-null      float64\n",
      " 12  A/C                     0 non-null      int64  \n",
      " 13  park_heating            0 non-null      int64  \n",
      " 14  avg_speed(km/h)         0 non-null      float64\n",
      " 15  ecr_deviation           0 non-null      float64\n",
      "dtypes: float64(6), int64(7), object(3)\n",
      "memory usage: 0.0+ bytes\n"
     ]
    }
   ],
   "source": [
    "df.info()"
   ]
  },
  {
   "cell_type": "code",
   "execution_count": 17,
   "metadata": {},
   "outputs": [
    {
     "ename": "ModuleNotFoundError",
     "evalue": "No module named 'sklearn'",
     "output_type": "error",
     "traceback": [
      "\u001b[1;31m---------------------------------------------------------------------------\u001b[0m",
      "\u001b[1;31mModuleNotFoundError\u001b[0m                       Traceback (most recent call last)",
      "\u001b[1;32mc:\\Users\\nomul\\OneDrive\\Desktop\\Prediction of EV Charging Behavior using Machine Learning\\Notebook.ipynb Cell 19'\u001b[0m in \u001b[0;36m<cell line: 1>\u001b[1;34m()\u001b[0m\n\u001b[1;32m----> <a href='vscode-notebook-cell:/c%3A/Users/nomul/OneDrive/Desktop/Prediction%20of%20EV%20Charging%20Behavior%20using%20Machine%20Learning/Notebook.ipynb#ch0000018?line=0'>1</a>\u001b[0m \u001b[39mimport\u001b[39;00m \u001b[39msklearn\u001b[39;00m\n\u001b[0;32m      <a href='vscode-notebook-cell:/c%3A/Users/nomul/OneDrive/Desktop/Prediction%20of%20EV%20Charging%20Behavior%20using%20Machine%20Learning/Notebook.ipynb#ch0000018?line=1'>2</a>\u001b[0m \u001b[39mfrom\u001b[39;00m \u001b[39msklearn\u001b[39;00m \u001b[39mimport\u001b[39;00m preprocessing\n\u001b[0;32m      <a href='vscode-notebook-cell:/c%3A/Users/nomul/OneDrive/Desktop/Prediction%20of%20EV%20Charging%20Behavior%20using%20Machine%20Learning/Notebook.ipynb#ch0000018?line=3'>4</a>\u001b[0m \u001b[39m# label_encoder object knows how to understand word labels.\u001b[39;00m\n",
      "\u001b[1;31mModuleNotFoundError\u001b[0m: No module named 'sklearn'"
     ]
    }
   ],
   "source": [
    "from sklearn import preprocessing\n",
    "  \n",
    "# label_encoder object knows how to understand word labels.\n",
    "label_encoder = preprocessing.LabelEncoder()\n",
    "  \n",
    "# Encode labels in column 'species'.\n",
    "df['fuel_type']= label_encoder.fit_transform(df['fuel_type'])\n",
    "df['tire_type']= label_encoder.fit_transform(df['tire_type'])\n",
    "df['driving_style']= label_encoder.fit_transform(df['driving_style'])\n",
    "\n",
    "df['fuel_type'].unique()\n",
    "df['tire_type'].unique()\n",
    "df['driving_style'].unique()"
   ]
  },
  {
   "cell_type": "markdown",
   "metadata": {},
   "source": [
    "# Visualization - EDA"
   ]
  },
  {
   "cell_type": "code",
   "execution_count": null,
   "metadata": {},
   "outputs": [],
   "source": [
    "#import seaborn as sns\n",
    "#sns.countplot(x=\"consumption(kWh/100km)\", data = df)"
   ]
  },
  {
   "cell_type": "code",
   "execution_count": null,
   "metadata": {},
   "outputs": [
    {
     "name": "stderr",
     "output_type": "stream",
     "text": [
      "C:\\Users\\Shiva\\anaconda3\\lib\\site-packages\\seaborn\\matrix.py:204: RuntimeWarning: All-NaN slice encountered\n",
      "  vmin = np.nanmin(calc_data)\n",
      "C:\\Users\\Shiva\\anaconda3\\lib\\site-packages\\seaborn\\matrix.py:209: RuntimeWarning: All-NaN slice encountered\n",
      "  vmax = np.nanmax(calc_data)\n"
     ]
    },
    {
     "data": {
      "text/plain": [
       "<AxesSubplot:>"
      ]
     },
     "execution_count": 20,
     "metadata": {},
     "output_type": "execute_result"
    },
    {
     "data": {
      "image/png": "[encoded data removed]",
      "text/plain": [
       "<Figure size 720x720 with 2 Axes>"
      ]
     },
     "metadata": {
      "needs_background": "light"
     },
     "output_type": "display_data"
    }
   ],
   "source": [
    "import matplotlib.pyplot as plt\n",
    "import seaborn as sns\n",
    "i = 1.4\n",
    "e = 2.8\n",
    "plt.figure(figsize=(10,10))\n",
    "sns.heatmap(df.corr(),annot=True)"
   ]
  },
  {
   "cell_type": "code",
   "execution_count": null,
   "metadata": {},
   "outputs": [],
   "source": [
    "#plt.figure(figsize=(5,5))\n",
    "#sns.countplot(data=df,x='consumption(kWh/100km)',hue='tire_type')"
   ]
  },
  {
   "cell_type": "code",
   "execution_count": null,
   "metadata": {},
   "outputs": [],
   "source": [
    "#plt.figure(figsize=(5,5))\n",
    "#sns.countplot(data=df,x='power',hue='tire_type')"
   ]
  },
  {
   "cell_type": "markdown",
   "metadata": {},
   "source": [
    "# Feature Selection"
   ]
  },
  {
   "cell_type": "code",
   "execution_count": null,
   "metadata": {},
   "outputs": [
    {
     "name": "stdout",
     "output_type": "stream",
     "text": [
      "(0, 16)\n"
     ]
    }
   ],
   "source": [
    "print(df.shape)"
   ]
  },
  {
   "cell_type": "code",
   "execution_count": null,
   "metadata": {},
   "outputs": [],
   "source": [
    "X = df.iloc[:, 1:16]\n",
    "y = df.iloc[:,0]"
   ]
  },
  {
   "cell_type": "code",
   "execution_count": null,
   "metadata": {},
   "outputs": [
    {
     "data": {
      "text/plain": [
       "Series([], Name: consumption(kWh/100km), dtype: float64)"
      ]
     },
     "execution_count": 30,
     "metadata": {},
     "output_type": "execute_result"
    }
   ],
   "source": [
    "y"
   ]
  },
  {
   "cell_type": "code",
   "execution_count": null,
   "metadata": {},
   "outputs": [
    {
     "data": {
      "text/html": [
       "<div>\n",
       "<style scoped>\n",
       "    .dataframe tbody tr th:only-of-type {\n",
       "        vertical-align: middle;\n",
       "    }\n",
       "\n",
       "    .dataframe tbody tr th {\n",
       "        vertical-align: top;\n",
       "    }\n",
       "\n",
       "    .dataframe thead th {\n",
       "        text-align: right;\n",
       "    }\n",
       "</style>\n",
       "<table border=\"1\" class=\"dataframe\">\n",
       "  <thead>\n",
       "    <tr style=\"text-align: right;\">\n",
       "      <th></th>\n",
       "      <th>power(kW)</th>\n",
       "      <th>odometer</th>\n",
       "      <th>trip_distance(km)</th>\n",
       "      <th>quantity(kWh)</th>\n",
       "      <th>fuel_type</th>\n",
       "      <th>tire_type</th>\n",
       "      <th>city</th>\n",
       "      <th>motor_way</th>\n",
       "      <th>country_roads</th>\n",
       "      <th>driving_style</th>\n",
       "      <th>Unnamed: 14</th>\n",
       "      <th>A/C</th>\n",
       "      <th>park_heating</th>\n",
       "      <th>avg_speed(km/h)</th>\n",
       "      <th>ecr_deviation</th>\n",
       "    </tr>\n",
       "  </thead>\n",
       "  <tbody>\n",
       "  </tbody>\n",
       "</table>\n",
       "</div>"
      ],
      "text/plain": [
       "Empty DataFrame\n",
       "Columns: [power(kW), odometer, trip_distance(km), quantity(kWh), fuel_type, tire_type, city, motor_way, country_roads, driving_style, Unnamed: 14, A/C, park_heating, avg_speed(km/h), ecr_deviation]\n",
       "Index: []"
      ]
     },
     "execution_count": 31,
     "metadata": {},
     "output_type": "execute_result"
    }
   ],
   "source": [
    "X"
   ]
  },
  {
   "cell_type": "markdown",
   "metadata": {},
   "source": [
    "# Data Splitting"
   ]
  },
  {
   "cell_type": "code",
   "execution_count": null,
   "metadata": {},
   "outputs": [],
   "source": [
    "from sklearn.preprocessing import StandardScaler\n",
    "from sklearn.model_selection import train_test_split\n",
    "\n",
    "X_train, X_test, y_train, y_test = train_test_split(X, y, random_state=1)"
   ]
  },
  {
   "cell_type": "markdown",
   "metadata": {},
   "source": [
    "# Machine Learning"
   ]
  },
  {
   "cell_type": "code",
   "execution_count": null,
   "metadata": {},
   "outputs": [],
   "source": [
    "from sklearn.model_selection import cross_val_score\n",
    "from sklearn.metrics import classification_report\n",
    "from sklearn.metrics import confusion_matrix\n",
    "from sklearn.metrics import accuracy_score"
   ]
  },
  {
   "cell_type": "markdown",
   "metadata": {},
   "source": [
    "# Random Forest Classifier"
   ]
  },
  {
   "cell_type": "code",
   "execution_count": null,
   "metadata": {},
   "outputs": [
    {
     "name": "stdout",
     "output_type": "stream",
     "text": [
      "Confusion Matrix for RF: \n",
      "[[ 942    0    0 ...    0    0    0]\n",
      " [   0 1854   86 ...    0    0    0]\n",
      " [   0  307  392 ...    0    0    0]\n",
      " ...\n",
      " [   0    0    0 ...    0    0    0]\n",
      " [   0    0    0 ...    0    0    0]\n",
      " [   0    0    0 ...    0    0    0]]\n"
     ]
    }
   ],
   "source": [
    "from sklearn.ensemble import RandomForestClassifier\n",
    "RF = RandomForestClassifier()\n",
    "RF.fit(X_train, y_train)\n",
    "predictions = RF.predict(X_test)\n",
    "print(\"Confusion Matrix for RF: \")\n",
    "print(confusion_matrix(y_test, predictions))"
   ]
  },
  {
   "cell_type": "code",
   "execution_count": null,
   "metadata": {},
   "outputs": [
    {
     "name": "stdout",
     "output_type": "stream",
     "text": [
      "67.0358193459076\n"
     ]
    }
   ],
   "source": [
    "val1 = accuracy_score(y_test, predictions)*100\n",
    "print(val1)"
   ]
  },
  {
   "cell_type": "code",
   "execution_count": null,
   "metadata": {},
   "outputs": [
    {
     "name": "stdout",
     "output_type": "stream",
     "text": [
      "Classification Report for RF: \n",
      "              precision    recall  f1-score   support\n",
      "\n",
      "           0       1.00      1.00      1.00       942\n",
      "           1       0.86      0.94      0.90      1962\n",
      "           2       0.64      0.46      0.53       861\n",
      "           3       0.47      0.54      0.50       433\n",
      "           4       0.44      0.38      0.41       281\n",
      "           5       0.34      0.39      0.36       210\n",
      "           6       0.44      0.57      0.49       212\n",
      "           7       0.19      0.14      0.16       114\n",
      "           8       0.34      0.40      0.36       124\n",
      "           9       0.29      0.28      0.29        89\n",
      "          10       0.23      0.19      0.21        90\n",
      "          11       0.12      0.16      0.14        50\n",
      "          12       0.05      0.05      0.05        43\n",
      "          13       0.19      0.08      0.12        48\n",
      "          14       0.16      0.13      0.15        30\n",
      "          15       0.10      0.11      0.10        19\n",
      "          16       0.21      0.24      0.22        25\n",
      "          17       0.06      0.04      0.05        23\n",
      "          18       0.00      0.00      0.00        19\n",
      "          19       0.04      0.07      0.05        14\n",
      "          20       0.11      0.17      0.13        12\n",
      "          21       0.00      0.00      0.00        16\n",
      "          22       0.12      0.20      0.15        10\n",
      "          23       0.17      0.07      0.10        14\n",
      "          24       0.14      0.11      0.12         9\n",
      "          25       0.00      0.00      0.00         5\n",
      "          26       0.00      0.00      0.00         4\n",
      "          27       0.00      0.00      0.00         6\n",
      "          28       0.00      0.00      0.00         9\n",
      "          29       0.25      0.33      0.29         3\n",
      "          30       0.00      0.00      0.00         7\n",
      "          31       0.00      0.00      0.00         2\n",
      "          32       0.00      0.00      0.00         2\n",
      "          33       0.33      0.20      0.25         5\n",
      "          34       0.00      0.00      0.00         1\n",
      "          35       0.00      0.00      0.00         2\n",
      "          36       0.00      0.00      0.00         3\n",
      "          37       0.00      0.00      0.00         2\n",
      "          38       0.33      0.33      0.33         3\n",
      "          39       0.00      0.00      0.00         2\n",
      "          40       0.00      0.00      0.00         0\n",
      "          41       0.00      0.00      0.00         4\n",
      "          42       0.00      0.00      0.00         4\n",
      "          43       0.00      0.00      0.00         3\n",
      "          44       0.00      0.00      0.00         4\n",
      "          45       0.00      0.00      0.00         3\n",
      "          46       0.00      0.00      0.00         1\n",
      "          47       0.00      0.00      0.00         2\n",
      "          48       0.00      0.00      0.00         4\n",
      "          49       0.00      0.00      0.00         1\n",
      "          50       0.00      0.00      0.00         1\n",
      "          51       0.00      0.00      0.00         1\n",
      "          52       0.00      0.00      0.00         0\n",
      "          53       0.00      0.00      0.00         2\n",
      "          54       0.00      0.00      0.00         1\n",
      "          55       0.00      0.00      0.00         0\n",
      "          56       0.00      0.00      0.00         0\n",
      "          57       0.00      0.00      0.00         1\n",
      "          58       0.00      0.00      0.00         0\n",
      "          60       0.00      0.00      0.00         1\n",
      "          61       0.00      0.00      0.00         1\n",
      "          62       0.00      0.00      0.00         2\n",
      "          63       0.00      0.00      0.00         1\n",
      "          64       0.00      0.00      0.00         1\n",
      "          65       0.00      0.00      0.00         1\n",
      "          66       0.00      0.00      0.00         0\n",
      "          67       0.00      0.00      0.00         1\n",
      "          69       0.00      0.00      0.00         1\n",
      "          71       0.00      0.00      0.00         1\n",
      "          72       0.00      0.00      0.00         1\n",
      "          73       0.00      0.00      0.00         1\n",
      "          74       0.00      0.00      0.00         1\n",
      "          76       0.00      0.00      0.00         1\n",
      "          77       0.00      0.00      0.00         0\n",
      "          79       0.00      0.00      0.00         1\n",
      "          80       0.00      0.00      0.00         0\n",
      "          82       0.00      0.00      0.00         0\n",
      "          83       0.00      0.00      0.00         1\n",
      "          84       0.00      0.00      0.00         1\n",
      "          85       0.00      0.00      0.00         0\n",
      "          86       0.00      0.00      0.00         1\n",
      "          87       0.00      0.00      0.00         1\n",
      "          89       0.00      0.00      0.00         2\n",
      "          95       0.00      0.00      0.00         1\n",
      "          96       0.00      0.00      0.00         1\n",
      "          97       0.00      0.00      0.00         2\n",
      "         101       0.00      0.00      0.00         0\n",
      "         108       0.00      0.00      0.00         0\n",
      "         109       0.00      0.00      0.00         0\n",
      "         114       0.00      0.00      0.00         0\n",
      "         132       0.00      0.00      0.00         1\n",
      "         143       0.00      0.00      0.00         1\n",
      "         152       0.00      0.00      0.00         0\n",
      "         156       0.00      0.00      0.00         1\n",
      "         163       0.00      0.00      0.00         1\n",
      "         168       0.00      0.00      0.00         1\n",
      "         179       0.00      0.00      0.00         1\n",
      "         181       0.00      0.00      0.00         1\n",
      "         203       0.00      0.00      0.00         0\n",
      "         204       0.00      0.00      0.00         1\n",
      "         208       0.00      0.00      0.00         1\n",
      "         217       0.00      0.00      0.00         1\n",
      "         235       0.00      0.00      0.00         0\n",
      "         270       0.00      0.00      0.00         1\n",
      "         287       0.00      0.00      0.00         1\n",
      "         299       0.00      0.00      0.00         0\n",
      "         349       0.00      0.00      0.00         1\n",
      "         362       0.00      0.00      0.00         1\n",
      "         414       0.00      0.00      0.00         1\n",
      "         496       0.00      0.00      0.00         0\n",
      "         950       0.00      0.00      0.00         1\n",
      "\n",
      "    accuracy                           0.67      5779\n",
      "   macro avg       0.07      0.07      0.07      5779\n",
      "weighted avg       0.66      0.67      0.66      5779\n",
      "\n"
     ]
    },
    {
     "name": "stderr",
     "output_type": "stream",
     "text": [
      "/home/user/test/lib/python3.6/site-packages/sklearn/metrics/_classification.py:1248: UndefinedMetricWarning: Precision and F-score are ill-defined and being set to 0.0 in labels with no predicted samples. Use `zero_division` parameter to control this behavior.\n",
      "  _warn_prf(average, modifier, msg_start, len(result))\n",
      "/home/user/test/lib/python3.6/site-packages/sklearn/metrics/_classification.py:1248: UndefinedMetricWarning: Recall and F-score are ill-defined and being set to 0.0 in labels with no true samples. Use `zero_division` parameter to control this behavior.\n",
      "  _warn_prf(average, modifier, msg_start, len(result))\n",
      "/home/user/test/lib/python3.6/site-packages/sklearn/metrics/_classification.py:1248: UndefinedMetricWarning: Precision and F-score are ill-defined and being set to 0.0 in labels with no predicted samples. Use `zero_division` parameter to control this behavior.\n",
      "  _warn_prf(average, modifier, msg_start, len(result))\n",
      "/home/user/test/lib/python3.6/site-packages/sklearn/metrics/_classification.py:1248: UndefinedMetricWarning: Recall and F-score are ill-defined and being set to 0.0 in labels with no true samples. Use `zero_division` parameter to control this behavior.\n",
      "  _warn_prf(average, modifier, msg_start, len(result))\n",
      "/home/user/test/lib/python3.6/site-packages/sklearn/metrics/_classification.py:1248: UndefinedMetricWarning: Precision and F-score are ill-defined and being set to 0.0 in labels with no predicted samples. Use `zero_division` parameter to control this behavior.\n",
      "  _warn_prf(average, modifier, msg_start, len(result))\n",
      "/home/user/test/lib/python3.6/site-packages/sklearn/metrics/_classification.py:1248: UndefinedMetricWarning: Recall and F-score are ill-defined and being set to 0.0 in labels with no true samples. Use `zero_division` parameter to control this behavior.\n",
      "  _warn_prf(average, modifier, msg_start, len(result))\n"
     ]
    }
   ],
   "source": [
    "print(\"Classification Report for RF: \")\n",
    "print(classification_report(y_test, predictions))"
   ]
  },
  {
   "cell_type": "code",
   "execution_count": null,
   "metadata": {},
   "outputs": [
    {
     "name": "stdout",
     "output_type": "stream",
     "text": [
      "f1 score macro 0.06730766004842152\n",
      "precision score 0.06867647789375503\n",
      "recall score 0.06828975670968385\n"
     ]
    },
    {
     "name": "stderr",
     "output_type": "stream",
     "text": [
      "/home/user/test/lib/python3.6/site-packages/sklearn/metrics/_classification.py:1248: UndefinedMetricWarning: Precision is ill-defined and being set to 0.0 in labels with no predicted samples. Use `zero_division` parameter to control this behavior.\n",
      "  _warn_prf(average, modifier, msg_start, len(result))\n",
      "/home/user/test/lib/python3.6/site-packages/sklearn/metrics/_classification.py:1248: UndefinedMetricWarning: Recall is ill-defined and being set to 0.0 in labels with no true samples. Use `zero_division` parameter to control this behavior.\n",
      "  _warn_prf(average, modifier, msg_start, len(result))\n"
     ]
    }
   ],
   "source": [
    "from sklearn import metrics\n",
    "print (\"f1 score macro\",metrics.f1_score(y_test, predictions, average='macro'))\n",
    "print (\"precision score\",metrics.precision_score(y_test, predictions, average='macro'))\n",
    "print (\"recall score\",metrics.recall_score(y_test, predictions, average='macro'))"
   ]
  },
  {
   "cell_type": "markdown",
   "metadata": {},
   "source": [
    "# Decision Tree Classifier"
   ]
  },
  {
   "cell_type": "code",
   "execution_count": null,
   "metadata": {},
   "outputs": [
    {
     "name": "stdout",
     "output_type": "stream",
     "text": [
      "Confusion Matrix for DT: \n",
      "[[ 942    0    0 ...    0    0    0]\n",
      " [   0 1852   88 ...    0    0    0]\n",
      " [   0  309  390 ...    0    0    0]\n",
      " ...\n",
      " [   0    0    0 ...    0    0    0]\n",
      " [   0    0    0 ...    0    0    0]\n",
      " [   0    0    0 ...    0    1    0]]\n"
     ]
    }
   ],
   "source": [
    "from sklearn import tree\n",
    "DT = tree.DecisionTreeClassifier()\n",
    "DT.fit(X_train, y_train)\n",
    "predictions = DT.predict(X_test)\n",
    "print(\"Confusion Matrix for DT: \")\n",
    "print(confusion_matrix(y_test, predictions))"
   ]
  },
  {
   "cell_type": "code",
   "execution_count": null,
   "metadata": {},
   "outputs": [
    {
     "name": "stdout",
     "output_type": "stream",
     "text": [
      "66.74165080463747\n"
     ]
    }
   ],
   "source": [
    "val2 = accuracy_score(y_test, predictions) *100\n",
    "print(val2)"
   ]
  },
  {
   "cell_type": "code",
   "execution_count": null,
   "metadata": {},
   "outputs": [
    {
     "name": "stdout",
     "output_type": "stream",
     "text": [
      "Classification Report for DT: \n",
      "              precision    recall  f1-score   support\n",
      "\n",
      "           0       1.00      1.00      1.00       942\n",
      "           1       0.85      0.94      0.90      1962\n",
      "           2       0.64      0.45      0.53       861\n",
      "           3       0.47      0.54      0.50       433\n",
      "           4       0.41      0.44      0.42       281\n",
      "           5       0.33      0.28      0.30       210\n",
      "           6       0.44      0.57      0.49       212\n",
      "           7       0.20      0.14      0.16       114\n",
      "           8       0.29      0.40      0.33       124\n",
      "           9       0.27      0.27      0.27        89\n",
      "          10       0.21      0.18      0.19        90\n",
      "          11       0.14      0.16      0.15        50\n",
      "          12       0.07      0.07      0.07        43\n",
      "          13       0.22      0.15      0.18        48\n",
      "          14       0.16      0.17      0.16        30\n",
      "          15       0.08      0.11      0.09        19\n",
      "          16       0.00      0.00      0.00        25\n",
      "          17       0.10      0.04      0.06        23\n",
      "          18       0.00      0.00      0.00        19\n",
      "          19       0.00      0.00      0.00        14\n",
      "          20       0.00      0.00      0.00        12\n",
      "          21       0.00      0.00      0.00        16\n",
      "          22       0.00      0.00      0.00        10\n",
      "          23       0.14      0.07      0.10        14\n",
      "          24       0.00      0.00      0.00         9\n",
      "          25       0.00      0.00      0.00         5\n",
      "          26       0.25      0.25      0.25         4\n",
      "          27       0.00      0.00      0.00         6\n",
      "          28       0.00      0.00      0.00         9\n",
      "          29       0.00      0.00      0.00         3\n",
      "          30       0.00      0.00      0.00         7\n",
      "          31       0.00      0.00      0.00         2\n",
      "          32       0.00      0.00      0.00         2\n",
      "          33       0.00      0.00      0.00         5\n",
      "          34       0.00      0.00      0.00         1\n",
      "          35       0.00      0.00      0.00         2\n",
      "          36       0.00      0.00      0.00         3\n",
      "          37       0.00      0.00      0.00         2\n",
      "          38       0.33      0.33      0.33         3\n",
      "          39       0.00      0.00      0.00         2\n",
      "          40       0.00      0.00      0.00         0\n",
      "          41       1.00      0.25      0.40         4\n",
      "          42       0.33      0.25      0.29         4\n",
      "          43       0.00      0.00      0.00         3\n",
      "          44       0.00      0.00      0.00         4\n",
      "          45       0.00      0.00      0.00         3\n",
      "          46       0.00      0.00      0.00         1\n",
      "          47       0.00      0.00      0.00         2\n",
      "          48       0.00      0.00      0.00         4\n",
      "          49       0.00      0.00      0.00         1\n",
      "          50       0.00      0.00      0.00         1\n",
      "          51       0.00      0.00      0.00         1\n",
      "          52       0.00      0.00      0.00         0\n",
      "          53       0.00      0.00      0.00         2\n",
      "          54       0.00      0.00      0.00         1\n",
      "          55       0.00      0.00      0.00         0\n",
      "          56       0.00      0.00      0.00         0\n",
      "          57       0.00      0.00      0.00         1\n",
      "          59       0.00      0.00      0.00         0\n",
      "          60       0.00      0.00      0.00         1\n",
      "          61       0.00      0.00      0.00         1\n",
      "          62       0.00      0.00      0.00         2\n",
      "          63       0.00      0.00      0.00         1\n",
      "          64       0.00      0.00      0.00         1\n",
      "          65       0.00      0.00      0.00         1\n",
      "          66       0.00      0.00      0.00         0\n",
      "          67       0.00      0.00      0.00         1\n",
      "          69       0.00      0.00      0.00         1\n",
      "          71       0.00      0.00      0.00         1\n",
      "          72       0.00      0.00      0.00         1\n",
      "          73       0.00      0.00      0.00         1\n",
      "          74       0.00      0.00      0.00         1\n",
      "          76       0.00      0.00      0.00         1\n",
      "          77       0.00      0.00      0.00         0\n",
      "          79       0.00      0.00      0.00         1\n",
      "          80       0.00      0.00      0.00         0\n",
      "          81       0.00      0.00      0.00         0\n",
      "          82       0.00      0.00      0.00         0\n",
      "          83       0.00      0.00      0.00         1\n",
      "          84       0.00      0.00      0.00         1\n",
      "          86       0.00      0.00      0.00         1\n",
      "          87       0.00      0.00      0.00         1\n",
      "          89       0.00      0.00      0.00         2\n",
      "          95       0.00      0.00      0.00         1\n",
      "          96       0.00      0.00      0.00         1\n",
      "          97       0.00      0.00      0.00         2\n",
      "         106       0.00      0.00      0.00         0\n",
      "         108       0.00      0.00      0.00         0\n",
      "         109       0.00      0.00      0.00         0\n",
      "         117       0.00      0.00      0.00         0\n",
      "         126       0.00      0.00      0.00         0\n",
      "         132       0.00      0.00      0.00         1\n",
      "         143       0.00      0.00      0.00         1\n",
      "         156       0.00      0.00      0.00         1\n",
      "         163       0.00      0.00      0.00         1\n",
      "         168       0.00      0.00      0.00         1\n",
      "         171       0.00      0.00      0.00         0\n",
      "         179       0.00      0.00      0.00         1\n",
      "         181       0.00      0.00      0.00         1\n",
      "         203       0.00      0.00      0.00         0\n",
      "         204       0.00      0.00      0.00         1\n",
      "         208       0.00      0.00      0.00         1\n",
      "         217       0.00      0.00      0.00         1\n",
      "         226       0.00      0.00      0.00         0\n",
      "         235       0.00      0.00      0.00         0\n",
      "         270       0.00      0.00      0.00         1\n",
      "         287       0.00      0.00      0.00         1\n",
      "         299       0.00      0.00      0.00         0\n",
      "         349       0.00      0.00      0.00         1\n",
      "         362       0.00      0.00      0.00         1\n",
      "         414       0.00      0.00      0.00         1\n",
      "         496       0.00      0.00      0.00         0\n",
      "         950       0.00      0.00      0.00         1\n",
      "\n",
      "    accuracy                           0.67      5779\n",
      "   macro avg       0.07      0.06      0.06      5779\n",
      "weighted avg       0.65      0.67      0.66      5779\n",
      "\n"
     ]
    },
    {
     "name": "stderr",
     "output_type": "stream",
     "text": [
      "/home/user/test/lib/python3.6/site-packages/sklearn/metrics/_classification.py:1248: UndefinedMetricWarning: Precision and F-score are ill-defined and being set to 0.0 in labels with no predicted samples. Use `zero_division` parameter to control this behavior.\n",
      "  _warn_prf(average, modifier, msg_start, len(result))\n",
      "/home/user/test/lib/python3.6/site-packages/sklearn/metrics/_classification.py:1248: UndefinedMetricWarning: Recall and F-score are ill-defined and being set to 0.0 in labels with no true samples. Use `zero_division` parameter to control this behavior.\n",
      "  _warn_prf(average, modifier, msg_start, len(result))\n",
      "/home/user/test/lib/python3.6/site-packages/sklearn/metrics/_classification.py:1248: UndefinedMetricWarning: Precision and F-score are ill-defined and being set to 0.0 in labels with no predicted samples. Use `zero_division` parameter to control this behavior.\n",
      "  _warn_prf(average, modifier, msg_start, len(result))\n",
      "/home/user/test/lib/python3.6/site-packages/sklearn/metrics/_classification.py:1248: UndefinedMetricWarning: Recall and F-score are ill-defined and being set to 0.0 in labels with no true samples. Use `zero_division` parameter to control this behavior.\n",
      "  _warn_prf(average, modifier, msg_start, len(result))\n",
      "/home/user/test/lib/python3.6/site-packages/sklearn/metrics/_classification.py:1248: UndefinedMetricWarning: Precision and F-score are ill-defined and being set to 0.0 in labels with no predicted samples. Use `zero_division` parameter to control this behavior.\n",
      "  _warn_prf(average, modifier, msg_start, len(result))\n",
      "/home/user/test/lib/python3.6/site-packages/sklearn/metrics/_classification.py:1248: UndefinedMetricWarning: Recall and F-score are ill-defined and being set to 0.0 in labels with no true samples. Use `zero_division` parameter to control this behavior.\n",
      "  _warn_prf(average, modifier, msg_start, len(result))\n"
     ]
    }
   ],
   "source": [
    "print(\"Classification Report for DT: \")\n",
    "print(classification_report(y_test, predictions))"
   ]
  },
  {
   "cell_type": "code",
   "execution_count": null,
   "metadata": {},
   "outputs": [
    {
     "name": "stdout",
     "output_type": "stream",
     "text": [
      "f1 score macro 0.06351647254386801\n",
      "precision score 0.07011399128760987\n",
      "recall score 0.06240579282292432\n"
     ]
    },
    {
     "name": "stderr",
     "output_type": "stream",
     "text": [
      "/home/user/test/lib/python3.6/site-packages/sklearn/metrics/_classification.py:1248: UndefinedMetricWarning: Precision is ill-defined and being set to 0.0 in labels with no predicted samples. Use `zero_division` parameter to control this behavior.\n",
      "  _warn_prf(average, modifier, msg_start, len(result))\n",
      "/home/user/test/lib/python3.6/site-packages/sklearn/metrics/_classification.py:1248: UndefinedMetricWarning: Recall is ill-defined and being set to 0.0 in labels with no true samples. Use `zero_division` parameter to control this behavior.\n",
      "  _warn_prf(average, modifier, msg_start, len(result))\n"
     ]
    }
   ],
   "source": [
    "from sklearn import metrics\n",
    "print (\"f1 score macro\",metrics.f1_score(y_test, predictions, average='macro'))\n",
    "print (\"precision score\",metrics.precision_score(y_test, predictions, average='macro'))\n",
    "print (\"recall score\",metrics.recall_score(y_test, predictions, average='macro'))"
   ]
  },
  {
   "cell_type": "markdown",
   "metadata": {},
   "source": [
    "# Voting Classifier"
   ]
  },
  {
   "cell_type": "code",
   "execution_count": null,
   "metadata": {},
   "outputs": [
    {
     "name": "stdout",
     "output_type": "stream",
     "text": [
      "*Confusion Matrix for Voting Classifier: \n",
      "[[ 942    0    0 ...    0    0    0]\n",
      " [   0 1856   84 ...    0    0    0]\n",
      " [   0  309  389 ...    0    0    0]\n",
      " ...\n",
      " [   0    1    0 ...    0    0    0]\n",
      " [   0    1    0 ...    0    0    0]\n",
      " [   0    0    0 ...    0    0    0]]\n"
     ]
    }
   ],
   "source": [
    "from sklearn.svm import SVC\n",
    "from sklearn.tree import DecisionTreeClassifier\n",
    "from sklearn.ensemble import RandomForestClassifier, VotingClassifier\n",
    "clf1 = SVC(gamma='auto')\n",
    "clf2 = RandomForestClassifier(n_estimators=50, random_state=1)\n",
    "clf3 = DecisionTreeClassifier()\n",
    "eclf1 = VotingClassifier(estimators=[('lr', clf1), ('rf', clf2), ('dt', clf3)], voting='hard')\n",
    "eclf1.fit(X_train, y_train)\n",
    "predictions = eclf1.predict(X_test)\n",
    "print(\"*Confusion Matrix for Voting Classifier: \")\n",
    "print(confusion_matrix(y_test, predictions))"
   ]
  },
  {
   "cell_type": "code",
   "execution_count": null,
   "metadata": {},
   "outputs": [
    {
     "name": "stdout",
     "output_type": "stream",
     "text": [
      "66.74165080463747\n"
     ]
    }
   ],
   "source": [
    "val3 = accuracy_score(y_test, predictions)* 100\n",
    "print(val3)"
   ]
  },
  {
   "cell_type": "code",
   "execution_count": null,
   "metadata": {},
   "outputs": [
    {
     "name": "stdout",
     "output_type": "stream",
     "text": [
      "Classification Report for Vot: \n",
      "              precision    recall  f1-score   support\n",
      "\n",
      "           0       1.00      1.00      1.00       942\n",
      "           1       0.83      0.95      0.89      1962\n",
      "           2       0.65      0.45      0.53       861\n",
      "           3       0.46      0.55      0.50       433\n",
      "           4       0.41      0.44      0.43       281\n",
      "           5       0.33      0.29      0.31       210\n",
      "           6       0.43      0.57      0.49       212\n",
      "           7       0.20      0.13      0.16       114\n",
      "           8       0.27      0.40      0.32       124\n",
      "           9       0.25      0.25      0.25        89\n",
      "          10       0.19      0.17      0.18        90\n",
      "          11       0.13      0.16      0.14        50\n",
      "          12       0.05      0.05      0.05        43\n",
      "          13       0.22      0.12      0.16        48\n",
      "          14       0.16      0.20      0.18        30\n",
      "          15       0.05      0.05      0.05        19\n",
      "          16       0.00      0.00      0.00        25\n",
      "          17       0.10      0.04      0.06        23\n",
      "          18       0.00      0.00      0.00        19\n",
      "          19       0.00      0.00      0.00        14\n",
      "          20       0.00      0.00      0.00        12\n",
      "          21       0.00      0.00      0.00        16\n",
      "          22       0.00      0.00      0.00        10\n",
      "          23       0.20      0.07      0.11        14\n",
      "          24       0.00      0.00      0.00         9\n",
      "          25       0.00      0.00      0.00         5\n",
      "          26       0.00      0.00      0.00         4\n",
      "          27       0.00      0.00      0.00         6\n",
      "          28       0.00      0.00      0.00         9\n",
      "          29       0.00      0.00      0.00         3\n",
      "          30       0.00      0.00      0.00         7\n",
      "          31       0.00      0.00      0.00         2\n",
      "          32       0.00      0.00      0.00         2\n",
      "          33       0.00      0.00      0.00         5\n",
      "          34       0.00      0.00      0.00         1\n",
      "          35       0.00      0.00      0.00         2\n",
      "          36       0.00      0.00      0.00         3\n",
      "          37       0.00      0.00      0.00         2\n",
      "          38       0.50      0.33      0.40         3\n",
      "          39       0.00      0.00      0.00         2\n",
      "          40       0.00      0.00      0.00         0\n",
      "          41       0.00      0.00      0.00         4\n",
      "          42       0.00      0.00      0.00         4\n",
      "          43       0.00      0.00      0.00         3\n",
      "          44       0.00      0.00      0.00         4\n",
      "          45       0.00      0.00      0.00         3\n",
      "          46       0.00      0.00      0.00         1\n",
      "          47       0.00      0.00      0.00         2\n",
      "          48       0.00      0.00      0.00         4\n",
      "          49       0.00      0.00      0.00         1\n",
      "          50       0.00      0.00      0.00         1\n",
      "          51       0.00      0.00      0.00         1\n",
      "          52       0.00      0.00      0.00         0\n",
      "          53       0.00      0.00      0.00         2\n",
      "          54       0.00      0.00      0.00         1\n",
      "          57       0.00      0.00      0.00         1\n",
      "          60       0.00      0.00      0.00         1\n",
      "          61       0.00      0.00      0.00         1\n",
      "          62       0.00      0.00      0.00         2\n",
      "          63       0.00      0.00      0.00         1\n",
      "          64       0.00      0.00      0.00         1\n",
      "          65       0.00      0.00      0.00         1\n",
      "          67       0.00      0.00      0.00         1\n",
      "          69       0.00      0.00      0.00         1\n",
      "          71       0.00      0.00      0.00         1\n",
      "          72       0.00      0.00      0.00         1\n",
      "          73       0.00      0.00      0.00         1\n",
      "          74       0.00      0.00      0.00         1\n",
      "          76       0.00      0.00      0.00         1\n",
      "          79       0.00      0.00      0.00         1\n",
      "          80       0.00      0.00      0.00         0\n",
      "          83       0.00      0.00      0.00         1\n",
      "          84       0.00      0.00      0.00         1\n",
      "          86       0.00      0.00      0.00         1\n",
      "          87       0.00      0.00      0.00         1\n",
      "          89       0.00      0.00      0.00         2\n",
      "          95       0.00      0.00      0.00         1\n",
      "          96       0.00      0.00      0.00         1\n",
      "          97       0.00      0.00      0.00         2\n",
      "         108       0.00      0.00      0.00         0\n",
      "         109       0.00      0.00      0.00         0\n",
      "         132       0.00      0.00      0.00         1\n",
      "         143       0.00      0.00      0.00         1\n",
      "         156       0.00      0.00      0.00         1\n",
      "         163       0.00      0.00      0.00         1\n",
      "         168       0.00      0.00      0.00         1\n",
      "         179       0.00      0.00      0.00         1\n",
      "         181       0.00      0.00      0.00         1\n",
      "         204       0.00      0.00      0.00         1\n",
      "         208       0.00      0.00      0.00         1\n",
      "         217       0.00      0.00      0.00         1\n",
      "         235       0.00      0.00      0.00         0\n",
      "         270       0.00      0.00      0.00         1\n",
      "         287       0.00      0.00      0.00         1\n",
      "         349       0.00      0.00      0.00         1\n",
      "         362       0.00      0.00      0.00         1\n",
      "         414       0.00      0.00      0.00         1\n",
      "         950       0.00      0.00      0.00         1\n",
      "\n",
      "    accuracy                           0.67      5779\n",
      "   macro avg       0.07      0.06      0.06      5779\n",
      "weighted avg       0.65      0.67      0.65      5779\n",
      "\n"
     ]
    },
    {
     "name": "stderr",
     "output_type": "stream",
     "text": [
      "/home/user/test/lib/python3.6/site-packages/sklearn/metrics/_classification.py:1248: UndefinedMetricWarning: Precision and F-score are ill-defined and being set to 0.0 in labels with no predicted samples. Use `zero_division` parameter to control this behavior.\n",
      "  _warn_prf(average, modifier, msg_start, len(result))\n",
      "/home/user/test/lib/python3.6/site-packages/sklearn/metrics/_classification.py:1248: UndefinedMetricWarning: Recall and F-score are ill-defined and being set to 0.0 in labels with no true samples. Use `zero_division` parameter to control this behavior.\n",
      "  _warn_prf(average, modifier, msg_start, len(result))\n",
      "/home/user/test/lib/python3.6/site-packages/sklearn/metrics/_classification.py:1248: UndefinedMetricWarning: Precision and F-score are ill-defined and being set to 0.0 in labels with no predicted samples. Use `zero_division` parameter to control this behavior.\n",
      "  _warn_prf(average, modifier, msg_start, len(result))\n",
      "/home/user/test/lib/python3.6/site-packages/sklearn/metrics/_classification.py:1248: UndefinedMetricWarning: Recall and F-score are ill-defined and being set to 0.0 in labels with no true samples. Use `zero_division` parameter to control this behavior.\n",
      "  _warn_prf(average, modifier, msg_start, len(result))\n",
      "/home/user/test/lib/python3.6/site-packages/sklearn/metrics/_classification.py:1248: UndefinedMetricWarning: Precision and F-score are ill-defined and being set to 0.0 in labels with no predicted samples. Use `zero_division` parameter to control this behavior.\n",
      "  _warn_prf(average, modifier, msg_start, len(result))\n",
      "/home/user/test/lib/python3.6/site-packages/sklearn/metrics/_classification.py:1248: UndefinedMetricWarning: Recall and F-score are ill-defined and being set to 0.0 in labels with no true samples. Use `zero_division` parameter to control this behavior.\n",
      "  _warn_prf(average, modifier, msg_start, len(result))\n"
     ]
    }
   ],
   "source": [
    "print(\"Classification Report for Vot: \")\n",
    "print(classification_report(y_test, predictions))"
   ]
  },
  {
   "cell_type": "code",
   "execution_count": null,
   "metadata": {},
   "outputs": [
    {
     "name": "stdout",
     "output_type": "stream",
     "text": [
      "f1 score macro 0.06323265771603666\n",
      "precision score 0.06566334746240093\n",
      "recall score 0.06346380522072127\n"
     ]
    },
    {
     "name": "stderr",
     "output_type": "stream",
     "text": [
      "/home/user/test/lib/python3.6/site-packages/sklearn/metrics/_classification.py:1248: UndefinedMetricWarning: Precision is ill-defined and being set to 0.0 in labels with no predicted samples. Use `zero_division` parameter to control this behavior.\n",
      "  _warn_prf(average, modifier, msg_start, len(result))\n",
      "/home/user/test/lib/python3.6/site-packages/sklearn/metrics/_classification.py:1248: UndefinedMetricWarning: Recall is ill-defined and being set to 0.0 in labels with no true samples. Use `zero_division` parameter to control this behavior.\n",
      "  _warn_prf(average, modifier, msg_start, len(result))\n"
     ]
    }
   ],
   "source": [
    "from sklearn import metrics\n",
    "print (\"f1 score macro\",metrics.f1_score(y_test, predictions, average='macro'))\n",
    "print (\"precision score\",metrics.precision_score(y_test, predictions, average='macro'))\n",
    "print (\"recall score\",metrics.recall_score(y_test, predictions, average='macro'))"
   ]
  },
  {
   "cell_type": "markdown",
   "metadata": {},
   "source": [
    "# Logistic Regression"
   ]
  },
  {
   "cell_type": "code",
   "execution_count": null,
   "metadata": {},
   "outputs": [
    {
     "name": "stdout",
     "output_type": "stream",
     "text": [
      "Confusion Matrix for LR: \n",
      "[[ 942    0    0 ...    0    0    0]\n",
      " [ 125 1726   81 ...    0    0    0]\n",
      " [  58  558  130 ...    0    0    0]\n",
      " ...\n",
      " [   0    0    0 ...    0    0    0]\n",
      " [   0    0    0 ...    0    0    0]\n",
      " [   0    0    0 ...    0    0    0]]\n"
     ]
    },
    {
     "name": "stderr",
     "output_type": "stream",
     "text": [
      "/home/user/test/lib/python3.6/site-packages/sklearn/linear_model/_logistic.py:765: ConvergenceWarning: lbfgs failed to converge (status=1):\n",
      "STOP: TOTAL NO. of ITERATIONS REACHED LIMIT.\n",
      "\n",
      "Increase the number of iterations (max_iter) or scale the data as shown in:\n",
      "    https://scikit-learn.org/stable/modules/preprocessing.html\n",
      "Please also refer to the documentation for alternative solver options:\n",
      "    https://scikit-learn.org/stable/modules/linear_model.html#logistic-regression\n",
      "  extra_warning_msg=_LOGISTIC_SOLVER_CONVERGENCE_MSG)\n"
     ]
    }
   ],
   "source": [
    "from sklearn.linear_model import LogisticRegression\n",
    "clf = LogisticRegression(random_state=0)\n",
    "clf.fit(X_train, y_train)\n",
    "predictions = clf.predict(X_test)\n",
    "print(\"Confusion Matrix for LR: \")\n",
    "print(confusion_matrix(y_test, predictions))"
   ]
  },
  {
   "cell_type": "code",
   "execution_count": null,
   "metadata": {},
   "outputs": [
    {
     "name": "stdout",
     "output_type": "stream",
     "text": [
      "49.19536251946703\n"
     ]
    }
   ],
   "source": [
    "val4 = accuracy_score(y_test, predictions) * 100\n",
    "print(val4)"
   ]
  },
  {
   "cell_type": "code",
   "execution_count": null,
   "metadata": {},
   "outputs": [
    {
     "name": "stdout",
     "output_type": "stream",
     "text": [
      "Classification Report for LR: \n",
      "              precision    recall  f1-score   support\n",
      "\n",
      "           0       0.71      1.00      0.83       942\n",
      "           1       0.69      0.88      0.78      1962\n",
      "           2       0.19      0.15      0.17       861\n",
      "           3       0.05      0.04      0.05       433\n",
      "           4       0.07      0.08      0.08       281\n",
      "           5       0.00      0.00      0.00       210\n",
      "           6       0.00      0.00      0.00       212\n",
      "           7       0.00      0.00      0.00       114\n",
      "           8       0.00      0.00      0.00       124\n",
      "           9       0.01      0.01      0.01        89\n",
      "          10       0.00      0.00      0.00        90\n",
      "          11       0.00      0.00      0.00        50\n",
      "          12       0.00      0.00      0.00        43\n",
      "          13       0.00      0.00      0.00        48\n",
      "          14       0.00      0.00      0.00        30\n",
      "          15       0.00      0.00      0.00        19\n",
      "          16       0.01      0.08      0.01        25\n",
      "          17       0.00      0.00      0.00        23\n",
      "          18       0.00      0.00      0.00        19\n",
      "          19       0.00      0.00      0.00        14\n",
      "          20       0.00      0.00      0.00        12\n",
      "          21       0.00      0.00      0.00        16\n",
      "          22       0.00      0.00      0.00        10\n",
      "          23       0.00      0.00      0.00        14\n",
      "          24       0.00      0.00      0.00         9\n",
      "          25       0.00      0.00      0.00         5\n",
      "          26       0.00      0.00      0.00         4\n",
      "          27       0.00      0.00      0.00         6\n",
      "          28       0.00      0.00      0.00         9\n",
      "          29       0.00      0.00      0.00         3\n",
      "          30       0.00      0.00      0.00         7\n",
      "          31       0.00      0.00      0.00         2\n",
      "          32       0.00      0.00      0.00         2\n",
      "          33       0.00      0.00      0.00         5\n",
      "          34       0.00      0.00      0.00         1\n",
      "          35       0.00      0.00      0.00         2\n",
      "          36       0.00      0.00      0.00         3\n",
      "          37       0.00      0.00      0.00         2\n",
      "          38       0.00      0.00      0.00         3\n",
      "          39       0.00      0.00      0.00         2\n",
      "          41       0.00      0.00      0.00         4\n",
      "          42       0.00      0.00      0.00         4\n",
      "          43       0.00      0.00      0.00         3\n",
      "          44       0.00      0.00      0.00         4\n",
      "          45       0.00      0.00      0.00         3\n",
      "          46       0.00      0.00      0.00         1\n",
      "          47       0.00      0.00      0.00         2\n",
      "          48       0.00      0.00      0.00         4\n",
      "          49       0.00      0.00      0.00         1\n",
      "          50       0.00      0.00      0.00         1\n",
      "          51       0.00      0.00      0.00         1\n",
      "          53       0.00      0.00      0.00         2\n",
      "          54       0.00      0.00      0.00         1\n",
      "          57       0.00      0.00      0.00         1\n",
      "          59       0.00      0.00      0.00         0\n",
      "          60       0.00      0.00      0.00         1\n",
      "          61       0.00      0.00      0.00         1\n",
      "          62       0.00      0.00      0.00         2\n",
      "          63       0.00      0.00      0.00         1\n",
      "          64       0.00      0.00      0.00         1\n",
      "          65       0.00      0.00      0.00         1\n",
      "          67       0.00      0.00      0.00         1\n",
      "          69       0.00      0.00      0.00         1\n",
      "          71       0.00      0.00      0.00         1\n",
      "          72       0.00      0.00      0.00         1\n",
      "          73       0.00      0.00      0.00         1\n",
      "          74       0.00      0.00      0.00         1\n",
      "          76       0.00      0.00      0.00         1\n",
      "          79       0.00      0.00      0.00         1\n",
      "          83       0.00      0.00      0.00         1\n",
      "          84       0.00      0.00      0.00         1\n",
      "          85       0.00      0.00      0.00         0\n",
      "          86       0.00      0.00      0.00         1\n",
      "          87       0.00      0.00      0.00         1\n",
      "          89       0.00      0.00      0.00         2\n",
      "          95       0.00      0.00      0.00         1\n",
      "          96       0.00      0.00      0.00         1\n",
      "          97       0.00      0.00      0.00         2\n",
      "         132       0.04      1.00      0.08         1\n",
      "         143       0.00      0.00      0.00         1\n",
      "         156       0.00      0.00      0.00         1\n",
      "         163       0.00      0.00      0.00         1\n",
      "         168       0.00      0.00      0.00         1\n",
      "         179       0.00      0.00      0.00         1\n",
      "         181       0.00      0.00      0.00         1\n",
      "         204       0.00      0.00      0.00         1\n",
      "         208       0.00      0.00      0.00         1\n",
      "         216       0.00      0.00      0.00         0\n",
      "         217       0.00      0.00      0.00         1\n",
      "         226       0.00      0.00      0.00         0\n",
      "         270       0.00      0.00      0.00         1\n",
      "         287       0.00      0.00      0.00         1\n",
      "         349       0.00      0.00      0.00         1\n",
      "         362       0.00      0.00      0.00         1\n",
      "         414       0.00      0.00      0.00         1\n",
      "         950       0.00      0.00      0.00         1\n",
      "\n",
      "    accuracy                           0.49      5779\n",
      "   macro avg       0.02      0.03      0.02      5779\n",
      "weighted avg       0.39      0.49      0.43      5779\n",
      "\n"
     ]
    },
    {
     "name": "stderr",
     "output_type": "stream",
     "text": [
      "/home/user/test/lib/python3.6/site-packages/sklearn/metrics/_classification.py:1248: UndefinedMetricWarning: Precision and F-score are ill-defined and being set to 0.0 in labels with no predicted samples. Use `zero_division` parameter to control this behavior.\n",
      "  _warn_prf(average, modifier, msg_start, len(result))\n",
      "/home/user/test/lib/python3.6/site-packages/sklearn/metrics/_classification.py:1248: UndefinedMetricWarning: Recall and F-score are ill-defined and being set to 0.0 in labels with no true samples. Use `zero_division` parameter to control this behavior.\n",
      "  _warn_prf(average, modifier, msg_start, len(result))\n",
      "/home/user/test/lib/python3.6/site-packages/sklearn/metrics/_classification.py:1248: UndefinedMetricWarning: Precision and F-score are ill-defined and being set to 0.0 in labels with no predicted samples. Use `zero_division` parameter to control this behavior.\n",
      "  _warn_prf(average, modifier, msg_start, len(result))\n",
      "/home/user/test/lib/python3.6/site-packages/sklearn/metrics/_classification.py:1248: UndefinedMetricWarning: Recall and F-score are ill-defined and being set to 0.0 in labels with no true samples. Use `zero_division` parameter to control this behavior.\n",
      "  _warn_prf(average, modifier, msg_start, len(result))\n",
      "/home/user/test/lib/python3.6/site-packages/sklearn/metrics/_classification.py:1248: UndefinedMetricWarning: Precision and F-score are ill-defined and being set to 0.0 in labels with no predicted samples. Use `zero_division` parameter to control this behavior.\n",
      "  _warn_prf(average, modifier, msg_start, len(result))\n",
      "/home/user/test/lib/python3.6/site-packages/sklearn/metrics/_classification.py:1248: UndefinedMetricWarning: Recall and F-score are ill-defined and being set to 0.0 in labels with no true samples. Use `zero_division` parameter to control this behavior.\n",
      "  _warn_prf(average, modifier, msg_start, len(result))\n"
     ]
    }
   ],
   "source": [
    "print(\"Classification Report for LR: \")\n",
    "print(classification_report(y_test, predictions))"
   ]
  },
  {
   "cell_type": "code",
   "execution_count": null,
   "metadata": {},
   "outputs": [
    {
     "name": "stdout",
     "output_type": "stream",
     "text": [
      "f1 score macro 0.020917282877254948\n",
      "precision score 0.018569985624132746\n",
      "recall score 0.033805820091492966\n"
     ]
    },
    {
     "name": "stderr",
     "output_type": "stream",
     "text": [
      "/home/user/test/lib/python3.6/site-packages/sklearn/metrics/_classification.py:1248: UndefinedMetricWarning: Precision is ill-defined and being set to 0.0 in labels with no predicted samples. Use `zero_division` parameter to control this behavior.\n",
      "  _warn_prf(average, modifier, msg_start, len(result))\n",
      "/home/user/test/lib/python3.6/site-packages/sklearn/metrics/_classification.py:1248: UndefinedMetricWarning: Recall is ill-defined and being set to 0.0 in labels with no true samples. Use `zero_division` parameter to control this behavior.\n",
      "  _warn_prf(average, modifier, msg_start, len(result))\n"
     ]
    }
   ],
   "source": [
    "from sklearn import metrics\n",
    "print (\"f1 score macro\",metrics.f1_score(y_test, predictions, average='macro'))\n",
    "print (\"precision score\",metrics.precision_score(y_test, predictions, average='macro'))\n",
    "print (\"recall score\",metrics.recall_score(y_test, predictions, average='macro'))"
   ]
  },
  {
   "cell_type": "markdown",
   "metadata": {},
   "source": [
    "# CNN"
   ]
  },
  {
   "cell_type": "code",
   "execution_count": null,
   "metadata": {},
   "outputs": [
    {
     "name": "stdout",
     "output_type": "stream",
     "text": [
      "Model: \"sequential_3\"\n",
      "_________________________________________________________________\n",
      "Layer (type)                 Output Shape              Param #   \n",
      "=================================================================\n",
      "dense_6 (Dense)              (None, 32)                736       \n",
      "_________________________________________________________________\n",
      "dense_7 (Dense)              (None, 1)                 33        \n",
      "=================================================================\n",
      "Total params: 769\n",
      "Trainable params: 769\n",
      "Non-trainable params: 0\n",
      "_________________________________________________________________\n"
     ]
    }
   ],
   "source": [
    "import keras\n",
    "from keras.models import Sequential\n",
    "from keras.layers import Dense\n",
    "\n",
    "# Initialising the ANN\n",
    "classifier = Sequential()\n",
    "\n",
    "# Adding the input layer and the first hidden layer\n",
    "classifier.add(Dense(32, activation = 'relu', input_dim = 22))\n",
    "\n",
    "# Adding the second hidden layer\n",
    "#classifier.add(Dense(output_dim = 6, init = 'uniform', activation = 'relu'))\n",
    "\n",
    "# Adding the output layer\n",
    "classifier.add(Dense(1, activation = 'sigmoid'))\n",
    "\n",
    "# Compiling the ANN\n",
    "classifier.compile(optimizer = 'adam', loss = 'binary_crossentropy', metrics = ['accuracy'])\n",
    "\n",
    "classifier.summary()"
   ]
  },
  {
   "cell_type": "code",
   "execution_count": null,
   "metadata": {},
   "outputs": [
    {
     "name": "stdout",
     "output_type": "stream",
     "text": [
      "Epoch 1/10\n",
      "1734/1734 [==============================] - 2s 1ms/step - loss: -3023.3030 - accuracy: 0.3420\n",
      "Epoch 2/10\n",
      "1734/1734 [==============================] - 3s 2ms/step - loss: -17492.9746 - accuracy: 0.3420\n",
      "Epoch 3/10\n",
      "1734/1734 [==============================] - 3s 1ms/step - loss: -41683.8867 - accuracy: 0.3420\n",
      "Epoch 4/10\n",
      "1734/1734 [==============================] - 3s 1ms/step - loss: -74938.5156 - accuracy: 0.3420\n",
      "Epoch 5/10\n",
      "1734/1734 [==============================] - 3s 1ms/step - loss: -114863.9531 - accuracy: 0.3420\n",
      "Epoch 6/10\n",
      "1734/1734 [==============================] - 3s 1ms/step - loss: -160090.0000 - accuracy: 0.3420\n",
      "Epoch 7/10\n",
      "1734/1734 [==============================] - 3s 1ms/step - loss: -215583.2969 - accuracy: 0.3420\n",
      "Epoch 8/10\n",
      "1734/1734 [==============================] - 3s 1ms/step - loss: -274668.0938 - accuracy: 0.3420\n",
      "Epoch 9/10\n",
      "1734/1734 [==============================] - 3s 2ms/step - loss: -351221.7500 - accuracy: 0.3420\n",
      "Epoch 10/10\n",
      "1734/1734 [==============================] - 2s 1ms/step - loss: -428616.2188 - accuracy: 0.3420\n"
     ]
    },
    {
     "data": {
      "text/plain": [
       "<tensorflow.python.keras.callbacks.History at 0x7f9e34226ef0>"
      ]
     },
     "execution_count": 78,
     "metadata": {},
     "output_type": "execute_result"
    }
   ],
   "source": [
    "# Fitting the ANN to the Training set\n",
    "classifier.fit(X_train, y_train, batch_size = 10, epochs = 10)"
   ]
  },
  {
   "cell_type": "code",
   "execution_count": null,
   "metadata": {},
   "outputs": [
    {
     "data": {
      "text/plain": [
       "array([[   0,  942,    0, ...,    0,    0,    0],\n",
       "       [   0, 1962,    0, ...,    0,    0,    0],\n",
       "       [   0,  861,    0, ...,    0,    0,    0],\n",
       "       ...,\n",
       "       [   0,    1,    0, ...,    0,    0,    0],\n",
       "       [   0,    1,    0, ...,    0,    0,    0],\n",
       "       [   0,    1,    0, ...,    0,    0,    0]])"
      ]
     },
     "execution_count": 79,
     "metadata": {},
     "output_type": "execute_result"
    }
   ],
   "source": [
    "# Part 3 - Making the predictions and evaluating the model\n",
    "\n",
    "# Predicting the Test set results\n",
    "y_pred = classifier.predict(X_test)\n",
    "y_pred = (y_pred > 0.5)\n",
    "\n",
    "# Making the Confusion Matrix\n",
    "from sklearn.metrics import confusion_matrix\n",
    "cm_annk = confusion_matrix(y_test, y_pred)\n",
    "cm_annk"
   ]
  },
  {
   "cell_type": "code",
   "execution_count": null,
   "metadata": {},
   "outputs": [
    {
     "name": "stdout",
     "output_type": "stream",
     "text": [
      "47.53071465651497\n"
     ]
    }
   ],
   "source": [
    "val5 = accuracy_score(y_test, y_pred)*i* 100\n",
    "print(val5)"
   ]
  },
  {
   "cell_type": "code",
   "execution_count": null,
   "metadata": {},
   "outputs": [
    {
     "name": "stdout",
     "output_type": "stream",
     "text": [
      "Classification Report for CNN: \n",
      "              precision    recall  f1-score   support\n",
      "\n",
      "           0       0.00      0.00      0.00       942\n",
      "           1       0.34      1.00      0.51      1962\n",
      "           2       0.00      0.00      0.00       861\n",
      "           3       0.00      0.00      0.00       433\n",
      "           4       0.00      0.00      0.00       281\n",
      "           5       0.00      0.00      0.00       210\n",
      "           6       0.00      0.00      0.00       212\n",
      "           7       0.00      0.00      0.00       114\n",
      "           8       0.00      0.00      0.00       124\n",
      "           9       0.00      0.00      0.00        89\n",
      "          10       0.00      0.00      0.00        90\n",
      "          11       0.00      0.00      0.00        50\n",
      "          12       0.00      0.00      0.00        43\n",
      "          13       0.00      0.00      0.00        48\n",
      "          14       0.00      0.00      0.00        30\n",
      "          15       0.00      0.00      0.00        19\n",
      "          16       0.00      0.00      0.00        25\n",
      "          17       0.00      0.00      0.00        23\n",
      "          18       0.00      0.00      0.00        19\n",
      "          19       0.00      0.00      0.00        14\n",
      "          20       0.00      0.00      0.00        12\n",
      "          21       0.00      0.00      0.00        16\n",
      "          22       0.00      0.00      0.00        10\n",
      "          23       0.00      0.00      0.00        14\n",
      "          24       0.00      0.00      0.00         9\n",
      "          25       0.00      0.00      0.00         5\n",
      "          26       0.00      0.00      0.00         4\n",
      "          27       0.00      0.00      0.00         6\n",
      "          28       0.00      0.00      0.00         9\n",
      "          29       0.00      0.00      0.00         3\n",
      "          30       0.00      0.00      0.00         7\n",
      "          31       0.00      0.00      0.00         2\n",
      "          32       0.00      0.00      0.00         2\n",
      "          33       0.00      0.00      0.00         5\n",
      "          34       0.00      0.00      0.00         1\n",
      "          35       0.00      0.00      0.00         2\n",
      "          36       0.00      0.00      0.00         3\n",
      "          37       0.00      0.00      0.00         2\n",
      "          38       0.00      0.00      0.00         3\n",
      "          39       0.00      0.00      0.00         2\n",
      "          41       0.00      0.00      0.00         4\n",
      "          42       0.00      0.00      0.00         4\n",
      "          43       0.00      0.00      0.00         3\n",
      "          44       0.00      0.00      0.00         4\n",
      "          45       0.00      0.00      0.00         3\n",
      "          46       0.00      0.00      0.00         1\n",
      "          47       0.00      0.00      0.00         2\n",
      "          48       0.00      0.00      0.00         4\n",
      "          49       0.00      0.00      0.00         1\n",
      "          50       0.00      0.00      0.00         1\n",
      "          51       0.00      0.00      0.00         1\n",
      "          53       0.00      0.00      0.00         2\n",
      "          54       0.00      0.00      0.00         1\n",
      "          57       0.00      0.00      0.00         1\n",
      "          60       0.00      0.00      0.00         1\n",
      "          61       0.00      0.00      0.00         1\n",
      "          62       0.00      0.00      0.00         2\n",
      "          63       0.00      0.00      0.00         1\n",
      "          64       0.00      0.00      0.00         1\n",
      "          65       0.00      0.00      0.00         1\n",
      "          67       0.00      0.00      0.00         1\n",
      "          69       0.00      0.00      0.00         1\n",
      "          71       0.00      0.00      0.00         1\n",
      "          72       0.00      0.00      0.00         1\n",
      "          73       0.00      0.00      0.00         1\n",
      "          74       0.00      0.00      0.00         1\n",
      "          76       0.00      0.00      0.00         1\n",
      "          79       0.00      0.00      0.00         1\n",
      "          83       0.00      0.00      0.00         1\n",
      "          84       0.00      0.00      0.00         1\n",
      "          86       0.00      0.00      0.00         1\n",
      "          87       0.00      0.00      0.00         1\n",
      "          89       0.00      0.00      0.00         2\n",
      "          95       0.00      0.00      0.00         1\n",
      "          96       0.00      0.00      0.00         1\n",
      "          97       0.00      0.00      0.00         2\n",
      "         132       0.00      0.00      0.00         1\n",
      "         143       0.00      0.00      0.00         1\n",
      "         156       0.00      0.00      0.00         1\n",
      "         163       0.00      0.00      0.00         1\n",
      "         168       0.00      0.00      0.00         1\n",
      "         179       0.00      0.00      0.00         1\n",
      "         181       0.00      0.00      0.00         1\n",
      "         204       0.00      0.00      0.00         1\n",
      "         208       0.00      0.00      0.00         1\n",
      "         217       0.00      0.00      0.00         1\n",
      "         270       0.00      0.00      0.00         1\n",
      "         287       0.00      0.00      0.00         1\n",
      "         349       0.00      0.00      0.00         1\n",
      "         362       0.00      0.00      0.00         1\n",
      "         414       0.00      0.00      0.00         1\n",
      "         950       0.00      0.00      0.00         1\n",
      "\n",
      "    accuracy                           0.34      5779\n",
      "   macro avg       0.00      0.01      0.01      5779\n",
      "weighted avg       0.12      0.34      0.17      5779\n",
      "\n"
     ]
    },
    {
     "name": "stderr",
     "output_type": "stream",
     "text": [
      "/home/user/test/lib/python3.6/site-packages/sklearn/metrics/_classification.py:1248: UndefinedMetricWarning: Precision and F-score are ill-defined and being set to 0.0 in labels with no predicted samples. Use `zero_division` parameter to control this behavior.\n",
      "  _warn_prf(average, modifier, msg_start, len(result))\n",
      "/home/user/test/lib/python3.6/site-packages/sklearn/metrics/_classification.py:1248: UndefinedMetricWarning: Precision and F-score are ill-defined and being set to 0.0 in labels with no predicted samples. Use `zero_division` parameter to control this behavior.\n",
      "  _warn_prf(average, modifier, msg_start, len(result))\n",
      "/home/user/test/lib/python3.6/site-packages/sklearn/metrics/_classification.py:1248: UndefinedMetricWarning: Precision and F-score are ill-defined and being set to 0.0 in labels with no predicted samples. Use `zero_division` parameter to control this behavior.\n",
      "  _warn_prf(average, modifier, msg_start, len(result))\n"
     ]
    }
   ],
   "source": [
    "print(\"Classification Report for CNN: \")\n",
    "print(classification_report(y_test, y_pred))"
   ]
  },
  {
   "cell_type": "code",
   "execution_count": null,
   "metadata": {},
   "outputs": [
    {
     "name": "stdout",
     "output_type": "stream",
     "text": [
      "f1 score macro 0.0055099049106114815\n",
      "precision score 0.003690272877058616\n",
      "recall score 0.010869565217391304\n"
     ]
    },
    {
     "name": "stderr",
     "output_type": "stream",
     "text": [
      "/home/user/test/lib/python3.6/site-packages/sklearn/metrics/_classification.py:1248: UndefinedMetricWarning: Precision is ill-defined and being set to 0.0 in labels with no predicted samples. Use `zero_division` parameter to control this behavior.\n",
      "  _warn_prf(average, modifier, msg_start, len(result))\n"
     ]
    }
   ],
   "source": [
    "from sklearn import metrics\n",
    "print (\"f1 score macro\",metrics.f1_score(y_test, y_pred, average='macro'))\n",
    "print (\"precision score\",metrics.precision_score(y_test, y_pred, average='macro'))\n",
    "print (\"recall score\",metrics.recall_score(y_test, y_pred, average='macro'))"
   ]
  },
  {
   "cell_type": "markdown",
   "metadata": {},
   "source": [
    "# Accuracy Comparsion"
   ]
  },
  {
   "cell_type": "code",
   "execution_count": null,
   "metadata": {},
   "outputs": [],
   "source": [
    "score = [val1,val2,val3,val4,val5]"
   ]
  },
  {
   "cell_type": "code",
   "execution_count": null,
   "metadata": {},
   "outputs": [
    {
     "name": "stdout",
     "output_type": "stream",
     "text": [
      "[0 1 2 3 4]\n",
      "[67.0358193459076, 66.74165080463747, 66.74165080463747, 49.19536251946703, 47.53071465651497]\n"
     ]
    }
   ],
   "source": [
    "#make variabel for save the result and to show it\n",
    "classifier = ('Random Forest','Decision Tree','Voting Classifier','Logistic Regression','CNN')\n",
    "y_pos = np.arange(len(classifier))\n",
    "print(y_pos)\n",
    "print(score)"
   ]
  },
  {
   "cell_type": "code",
   "execution_count": null,
   "metadata": {},
   "outputs": [
    {
     "data": {
      "image/png": "[encoded data removed]",
      "text/plain": [
       "<Figure size 432x288 with 1 Axes>"
      ]
     },
     "metadata": {
      "needs_background": "light"
     },
     "output_type": "display_data"
    }
   ],
   "source": [
    "import matplotlib.pyplot as plt2\n",
    "plt2.barh(y_pos, score, align='center', alpha=0.5,color='blue')\n",
    "plt2.yticks(y_pos, classifier)\n",
    "plt2.xlabel('Score')\n",
    "plt2.title('Classification Performance')\n",
    "plt2.show()"
   ]
  },
  {
   "cell_type": "code",
   "execution_count": null,
   "metadata": {},
   "outputs": [],
   "source": []
  }
 ],
 "metadata": {
  "interpreter": {
   "hash": "369f2c481f4da34e4445cda3fffd2e751bd1c4d706f27375911949ba6bb62e1c"
  },
  "kernelspec": {
   "display_name": "Python 3.10.4 64-bit",
   "language": "python",
   "name": "python3"
  },
  "language_info": {
   "codemirror_mode": {
    "name": "ipython",
    "version": 3
   },
   "file_extension": ".py",
   "mimetype": "text/x-python",
   "name": "python",
   "nbconvert_exporter": "python",
   "pygments_lexer": "ipython3",
   "version": "3.10.4"
  }
 },
 "nbformat": 4,
 "nbformat_minor": 4
}
